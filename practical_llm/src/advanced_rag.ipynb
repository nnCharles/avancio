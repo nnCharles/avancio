{
 "cells": [
  {
   "cell_type": "code",
   "execution_count": 1,
   "id": "5bea1336-eaa4-4fe2-bf61-015ad86be5af",
   "metadata": {},
   "outputs": [],
   "source": [
    "from llama_index.core import (\n",
    "    Document,\n",
    "    Settings,\n",
    "    SimpleDirectoryReader,\n",
    "    VectorStoreIndex\n",
    ")\n",
    "from llama_index.embeddings.huggingface import HuggingFaceEmbedding\n",
    "from llama_index.llms.openai import OpenAI\n",
    "import pandas as pd\n",
    "from trulens_eval import Tru, TruLlama\n",
    "from utils import (\n",
    "    build_automerging_index,\n",
    "    build_sentence_window_index,\n",
    "    evaluate_engine,\n",
    "    get_automerging_query_engine,\n",
    "    get_feedback_func,\n",
    "    get_sentence_window_query_engine,\n",
    "    setup \n",
    ")\n",
    "import warnings"
   ]
  },
  {
   "cell_type": "code",
   "execution_count": 2,
   "id": "44bebf19-d9de-4174-b52d-d93a55b6dc26",
   "metadata": {},
   "outputs": [],
   "source": [
    "warnings.filterwarnings('ignore')\n",
    "pd.set_option(\"display.max_colwidth\", None)\n",
    "setup() "
   ]
  },
  {
   "cell_type": "code",
   "execution_count": 3,
   "id": "aab8f616",
   "metadata": {},
   "outputs": [
    {
     "name": "stdout",
     "output_type": "stream",
     "text": [
      "--2024-05-08 13:35:38--  https://raw.githubusercontent.com/run-llama/llama_index/main/docs/docs/examples/data/paul_graham/paul_graham_essay.txt\n",
      "Resolving raw.githubusercontent.com (raw.githubusercontent.com)... 2606:50c0:8001::154, 2606:50c0:8003::154, 2606:50c0:8000::154, ...\n",
      "Connecting to raw.githubusercontent.com (raw.githubusercontent.com)|2606:50c0:8001::154|:443... connected.\n",
      "HTTP request sent, awaiting response... 200 OK\n",
      "Length: 75042 (73K) [text/plain]\n",
      "Saving to: ‘../data/paul_graham_essay.txt’\n",
      "\n",
      "../data/paul_graham 100%[===================>]  73.28K  --.-KB/s    in 0.02s   \n",
      "\n",
      "2024-05-08 13:35:38 (3.94 MB/s) - ‘../data/paul_graham_essay.txt’ saved [75042/75042]\n",
      "\n"
     ]
    }
   ],
   "source": [
    "!mkdir -p '../data'\n",
    "!wget 'https://raw.githubusercontent.com/run-llama/llama_index/main/docs/docs/examples/data/paul_graham/paul_graham_essay.txt' -O '../data/paul_graham_essay.txt'"
   ]
  },
  {
   "cell_type": "code",
   "execution_count": 4,
   "id": "61a8af43-0e69-4b32-8ff4-d931786b4c94",
   "metadata": {},
   "outputs": [],
   "source": [
    "documents = SimpleDirectoryReader(\n",
    "    input_files=[\"../data/paul_graham_essay.txt\"]\n",
    ").load_data()"
   ]
  },
  {
   "cell_type": "code",
   "execution_count": 5,
   "id": "e20d2d2a",
   "metadata": {},
   "outputs": [
    {
     "data": {
      "text/plain": [
       "(1, list)"
      ]
     },
     "execution_count": 5,
     "metadata": {},
     "output_type": "execute_result"
    }
   ],
   "source": [
    "len(documents), type(documents)"
   ]
  },
  {
   "cell_type": "code",
   "execution_count": 6,
   "id": "10389b12-8dfb-4786-895e-017a5386df3a",
   "metadata": {},
   "outputs": [],
   "source": [
    "Settings.llm = OpenAI(model=\"gpt-3.5-turbo\", temperature=0.1)\n",
    "Settings.embed_model = HuggingFaceEmbedding(\n",
    "    model_name=\"BAAI/bge-small-en-v1.5\"\n",
    ")"
   ]
  },
  {
   "cell_type": "code",
   "execution_count": 7,
   "id": "7cc47a00-b8d5-4fd2-a226-880cdaec7cce",
   "metadata": {},
   "outputs": [],
   "source": [
    "index = VectorStoreIndex.from_documents(documents)\n",
    "query_engine = index.as_query_engine()"
   ]
  },
  {
   "cell_type": "code",
   "execution_count": 8,
   "id": "c1511bf5-6423-45b8-b267-9795f27da8d6",
   "metadata": {},
   "outputs": [
    {
     "name": "stderr",
     "output_type": "stream",
     "text": [
      "huggingface/tokenizers: The current process just got forked, after parallelism has already been used. Disabling parallelism to avoid deadlocks...\n",
      "To disable this warning, you can either:\n",
      "\t- Avoid using `tokenizers` before the fork if possible\n",
      "\t- Explicitly set the environment variable TOKENIZERS_PARALLELISM=(true | false)\n"
     ]
    },
    {
     "data": {
      "text/plain": [
       "'Paul Graham is known for his work in programming, particularly for his involvement in creating a new dialect of Lisp called Arc. Additionally, he is known for his essays, which he started publishing online and eventually compiled into a book titled \"Hackers & Painters.\"'"
      ]
     },
     "execution_count": 8,
     "metadata": {},
     "output_type": "execute_result"
    }
   ],
   "source": [
    "response = query_engine.query(\"What is Paul Graham known for?\")\n",
    "str(response)"
   ]
  },
  {
   "cell_type": "code",
   "execution_count": 9,
   "id": "c676bee2-718b-442b-b4c2-1c0e983257d4",
   "metadata": {},
   "outputs": [
    {
     "name": "stdout",
     "output_type": "stream",
     "text": [
      "🦑 Tru initialized with db url sqlite:///default.sqlite .\n",
      "🛑 Secret keys may be written to the database. See the `database_redact_keys` option of Tru` to prevent this.\n"
     ]
    }
   ],
   "source": [
    "tru = Tru()\n",
    "tru.reset_database()"
   ]
  },
  {
   "cell_type": "code",
   "execution_count": 10,
   "id": "7eb61a82-a13d-40ff-acd6-107d804171fe",
   "metadata": {},
   "outputs": [],
   "source": [
    "with open('eval_questions.txt', 'r') as file:\n",
    "    eval_questions = file.read().split(\"\\n\")"
   ]
  },
  {
   "cell_type": "code",
   "execution_count": 11,
   "id": "9cd7eabd-68b4-4104-969a-55669eb6395e",
   "metadata": {},
   "outputs": [
    {
     "name": "stdout",
     "output_type": "stream",
     "text": [
      "✅ In Answer Relevance, input prompt will be set to __record__.main_input or `Select.RecordInput` .\n",
      "✅ In Answer Relevance, input response will be set to __record__.main_output or `Select.RecordOutput` .\n",
      "✅ In Context Relevance, input prompt will be set to __record__.main_input or `Select.RecordInput` .\n",
      "✅ In Context Relevance, input response will be set to __record__.app.query.rets.source_nodes[:].node.text .\n",
      "✅ In Groundedness, input source will be set to __record__.app.query.rets.source_nodes[:].node.text .\n",
      "✅ In Groundedness, input statement will be set to __record__.main_output or `Select.RecordOutput` .\n"
     ]
    },
    {
     "name": "stderr",
     "output_type": "stream",
     "text": [
      "[nltk_data] Downloading package punkt to\n",
      "[nltk_data]     /Users/charlescamp/nltk_data...\n",
      "[nltk_data]   Package punkt is already up-to-date!\n"
     ]
    }
   ],
   "source": [
    "feedbacks = get_feedback_func()"
   ]
  },
  {
   "cell_type": "code",
   "execution_count": 12,
   "id": "5d844e03-a180-4136-8410-0bb228aa56d0",
   "metadata": {},
   "outputs": [
    {
     "data": {
      "application/vnd.jupyter.widget-view+json": {
       "model_id": "a9cd1d65bba342b7b937ace30b79b8ee",
       "version_major": 2,
       "version_minor": 0
      },
      "text/plain": [
       "Groundedness per statement in source:   0%|          | 0/1 [00:00<?, ?it/s]"
      ]
     },
     "metadata": {},
     "output_type": "display_data"
    },
    {
     "data": {
      "application/vnd.jupyter.widget-view+json": {
       "model_id": "92016b417dc340eaa3d1a6d99ba31d80",
       "version_major": 2,
       "version_minor": 0
      },
      "text/plain": [
       "Groundedness per statement in source:   0%|          | 0/1 [00:00<?, ?it/s]"
      ]
     },
     "metadata": {},
     "output_type": "display_data"
    },
    {
     "data": {
      "application/vnd.jupyter.widget-view+json": {
       "model_id": "faec142b99424414a3b6d0caf2bb455f",
       "version_major": 2,
       "version_minor": 0
      },
      "text/plain": [
       "Groundedness per statement in source:   0%|          | 0/1 [00:00<?, ?it/s]"
      ]
     },
     "metadata": {},
     "output_type": "display_data"
    },
    {
     "data": {
      "application/vnd.jupyter.widget-view+json": {
       "model_id": "9fb3e8f5d65243dcabcefc529ce7833f",
       "version_major": 2,
       "version_minor": 0
      },
      "text/plain": [
       "Groundedness per statement in source:   0%|          | 0/1 [00:00<?, ?it/s]"
      ]
     },
     "metadata": {},
     "output_type": "display_data"
    },
    {
     "data": {
      "application/vnd.jupyter.widget-view+json": {
       "model_id": "794f9478314840e986168fefeaa06c27",
       "version_major": 2,
       "version_minor": 0
      },
      "text/plain": [
       "Groundedness per statement in source:   0%|          | 0/1 [00:00<?, ?it/s]"
      ]
     },
     "metadata": {},
     "output_type": "display_data"
    },
    {
     "data": {
      "application/vnd.jupyter.widget-view+json": {
       "model_id": "17543eb7587f4c2ba8a55da988631498",
       "version_major": 2,
       "version_minor": 0
      },
      "text/plain": [
       "Groundedness per statement in source:   0%|          | 0/1 [00:00<?, ?it/s]"
      ]
     },
     "metadata": {},
     "output_type": "display_data"
    },
    {
     "data": {
      "application/vnd.jupyter.widget-view+json": {
       "model_id": "078f9af5ba4f404fa792027aea37fade",
       "version_major": 2,
       "version_minor": 0
      },
      "text/plain": [
       "Groundedness per statement in source:   0%|          | 0/1 [00:00<?, ?it/s]"
      ]
     },
     "metadata": {},
     "output_type": "display_data"
    },
    {
     "data": {
      "application/vnd.jupyter.widget-view+json": {
       "model_id": "055beebb4c484302a17d019dd7b741bf",
       "version_major": 2,
       "version_minor": 0
      },
      "text/plain": [
       "Groundedness per statement in source:   0%|          | 0/1 [00:00<?, ?it/s]"
      ]
     },
     "metadata": {},
     "output_type": "display_data"
    },
    {
     "data": {
      "application/vnd.jupyter.widget-view+json": {
       "model_id": "79df7b80b3894ae9b4534101f70407bb",
       "version_major": 2,
       "version_minor": 0
      },
      "text/plain": [
       "Groundedness per statement in source:   0%|          | 0/1 [00:00<?, ?it/s]"
      ]
     },
     "metadata": {},
     "output_type": "display_data"
    },
    {
     "data": {
      "application/vnd.jupyter.widget-view+json": {
       "model_id": "0fe98a5c94ed45118d48f5f5c697adc4",
       "version_major": 2,
       "version_minor": 0
      },
      "text/plain": [
       "Groundedness per statement in source:   0%|          | 0/1 [00:00<?, ?it/s]"
      ]
     },
     "metadata": {},
     "output_type": "display_data"
    },
    {
     "data": {
      "application/vnd.jupyter.widget-view+json": {
       "model_id": "c3da603d6b8e4d1099cbc025fec4de68",
       "version_major": 2,
       "version_minor": 0
      },
      "text/plain": [
       "Groundedness per statement in source:   0%|          | 0/1 [00:00<?, ?it/s]"
      ]
     },
     "metadata": {},
     "output_type": "display_data"
    },
    {
     "data": {
      "application/vnd.jupyter.widget-view+json": {
       "model_id": "46e0746572dd4da7b57b81e4fbcb0f2d",
       "version_major": 2,
       "version_minor": 0
      },
      "text/plain": [
       "Groundedness per statement in source:   0%|          | 0/1 [00:00<?, ?it/s]"
      ]
     },
     "metadata": {},
     "output_type": "display_data"
    },
    {
     "data": {
      "application/vnd.jupyter.widget-view+json": {
       "model_id": "980dc7e5b6254e3e92f2f9ae0bc83d36",
       "version_major": 2,
       "version_minor": 0
      },
      "text/plain": [
       "Groundedness per statement in source:   0%|          | 0/1 [00:00<?, ?it/s]"
      ]
     },
     "metadata": {},
     "output_type": "display_data"
    },
    {
     "data": {
      "application/vnd.jupyter.widget-view+json": {
       "model_id": "9fe4692449504b9b8f4fd1f9a20c236f",
       "version_major": 2,
       "version_minor": 0
      },
      "text/plain": [
       "Groundedness per statement in source:   0%|          | 0/1 [00:00<?, ?it/s]"
      ]
     },
     "metadata": {},
     "output_type": "display_data"
    },
    {
     "data": {
      "application/vnd.jupyter.widget-view+json": {
       "model_id": "2f0f147bcc0947709ddbab49acdafc78",
       "version_major": 2,
       "version_minor": 0
      },
      "text/plain": [
       "Groundedness per statement in source:   0%|          | 0/1 [00:00<?, ?it/s]"
      ]
     },
     "metadata": {},
     "output_type": "display_data"
    },
    {
     "data": {
      "application/vnd.jupyter.widget-view+json": {
       "model_id": "494b1b6c18f14e66a610e965048f1da8",
       "version_major": 2,
       "version_minor": 0
      },
      "text/plain": [
       "Groundedness per statement in source:   0%|          | 0/1 [00:00<?, ?it/s]"
      ]
     },
     "metadata": {},
     "output_type": "display_data"
    },
    {
     "data": {
      "application/vnd.jupyter.widget-view+json": {
       "model_id": "ec366ed2a1b546d69d4ae3ef8f249bd7",
       "version_major": 2,
       "version_minor": 0
      },
      "text/plain": [
       "Groundedness per statement in source:   0%|          | 0/1 [00:00<?, ?it/s]"
      ]
     },
     "metadata": {},
     "output_type": "display_data"
    },
    {
     "data": {
      "application/vnd.jupyter.widget-view+json": {
       "model_id": "14d3e464dc544562b8115afeafba581a",
       "version_major": 2,
       "version_minor": 0
      },
      "text/plain": [
       "Groundedness per statement in source:   0%|          | 0/1 [00:00<?, ?it/s]"
      ]
     },
     "metadata": {},
     "output_type": "display_data"
    },
    {
     "data": {
      "text/plain": [
       "TruLlama(tru_class_info=trulens_eval.tru_llama.TruLlama, app_id='Direct Query Engine', tags='-', metadata={}, feedback_definitions=[], feedback_mode=<FeedbackMode.WITH_APP_THREAD: 'with_app_thread'>, root_class=llama_index.core.query_engine.retriever_query_engine.RetrieverQueryEngine, app=<llama_index.core.query_engine.retriever_query_engine.RetrieverQueryEngine object at 0x37553b6d0>, initial_app_loader_dump=None, app_extra_json={}, feedbacks=[FeedbackDefinition(Answer Relevance,\n",
       "\tselectors={'prompt': Lens().__record__.main_input, 'response': Lens().__record__.main_output},\n",
       "\tif_exists=None\n",
       "), FeedbackDefinition(Context Relevance,\n",
       "\tselectors={'prompt': Lens().__record__.main_input, 'response': Lens().__record__.app.query.rets.source_nodes[:].node.text},\n",
       "\tif_exists=None\n",
       "), FeedbackDefinition(Groundedness,\n",
       "\tselectors={'source': Lens().__record__.app.query.rets.source_nodes[:].node.text, 'statement': Lens().__record__.main_output},\n",
       "\tif_exists=None\n",
       ")], tru=<trulens_eval.tru.Tru object at 0x3755cdd90>, db=SQLAlchemyDB(redact_keys=False, table_prefix='trulens_', engine_params={'url': 'sqlite:///default.sqlite', 'pool_size': 10, 'pool_recycle': 300, 'pool_pre_ping': True, 'max_overflow': 2, 'pool_use_lifo': True}, session_params={}, engine=Engine(sqlite:///default.sqlite), session=sessionmaker(class_='Session', bind=Engine(sqlite:///default.sqlite), autoflush=True, expire_on_commit=True), orm=<class 'trulens_eval.database.orm.new_orm.<locals>.NewORM'>), instrument=<trulens_eval.tru_llama.LlamaInstrument object at 0x37c46e750>, recording_contexts=<ContextVar name='recording_contexts' at 0x317075cb0>, instrumented_methods={14853318992: {<function BaseRetriever.retrieve at 0x176130fe0>: Lens().app._retriever, <function VectorIndexRetriever._retrieve at 0x31217a660>: Lens().app._retriever, <function VectorIndexRetriever._aretrieve at 0x31217aa20>: Lens().app._retriever, <function BaseRetriever._retrieve at 0x1761314e0>: Lens().app._retriever, <function BaseRetriever._aretrieve at 0x176131440>: Lens().app._retriever}, 13479906000: {<function llm_completion_callback.<locals>.wrap.<locals>.wrapped_llm_predict at 0x313a86c00>: Lens().app._response_synthesizer._llm, <function llm_completion_callback.<locals>.wrap.<locals>.wrapped_llm_predict at 0x313a86e80>: Lens().app._response_synthesizer._llm, <function llm_completion_callback.<locals>.wrap.<locals>.wrapped_async_llm_predict at 0x313a90360>: Lens().app._response_synthesizer._llm, <function llm_completion_callback.<locals>.wrap.<locals>.wrapped_async_llm_predict at 0x313a905e0>: Lens().app._response_synthesizer._llm, <function llm_chat_callback.<locals>.wrap.<locals>.wrapped_llm_chat at 0x313a86700>: Lens().app._response_synthesizer._llm, <function llm_chat_callback.<locals>.wrap.<locals>.wrapped_async_llm_chat at 0x313a87e20>: Lens().app._response_synthesizer._llm, <function llm_chat_callback.<locals>.wrap.<locals>.wrapped_llm_chat at 0x313a86980>: Lens().app._response_synthesizer._llm, <function BaseLLM.complete at 0x169629b20>: Lens().app._response_synthesizer._llm, <function BaseLLM.stream_complete at 0x169629d00>: Lens().app._response_synthesizer._llm, <function BaseLLM.acomplete at 0x169629e40>: Lens().app._response_synthesizer._llm, <function BaseLLM.astream_complete at 0x169629f80>: Lens().app._response_synthesizer._llm, <function BaseLLM.chat at 0x169629bc0>: Lens().app._response_synthesizer._llm, <function BaseLLM.achat at 0x169629da0>: Lens().app._response_synthesizer._llm, <function BaseLLM.stream_chat at 0x169629c60>: Lens().app._response_synthesizer._llm}, 14852916368: {<function CompactAndRefine.get_response at 0x176306480>: Lens().app._response_synthesizer, <function Refine.get_response at 0x176305d00>: Lens().app._response_synthesizer, <function BaseSynthesizer.get_response at 0x1762bf560>: Lens().app._response_synthesizer}, 14853322448: {<function BaseQueryEngine.query at 0x169656200>: Lens().app, <function BaseQueryEngine.aquery at 0x1696565c0>: Lens().app, <function RetrieverQueryEngine.retrieve at 0x3234811c0>: Lens().app, <function RetrieverQueryEngine.synthesize at 0x3234813a0>: Lens().app, <function BaseQueryEngine.retrieve at 0x169656700>: Lens().app, <function BaseQueryEngine.synthesize at 0x169656660>: Lens().app}}, records_with_pending_feedback_results=<queue.Queue object at 0x37c4d9250>, manage_pending_feedback_results_thread=<Thread(Thread-7 (_future_target_wrapper), started daemon 14998859776)>, selector_check_warning=False, selector_nocheck=False)"
      ]
     },
     "execution_count": 12,
     "metadata": {},
     "output_type": "execute_result"
    }
   ],
   "source": [
    "evaluate_engine(\n",
    "    query_engine=query_engine,\n",
    "    feedbacks=feedbacks,\n",
    "    app_id=\"Direct Query Engine\",\n",
    "    eval_questions=eval_questions,\n",
    "    verbose=False\n",
    ")"
   ]
  },
  {
   "cell_type": "code",
   "execution_count": 13,
   "id": "b3dafdd8-3adc-4a24-a38f-5f41ab7d11ac",
   "metadata": {},
   "outputs": [
    {
     "data": {
      "application/vnd.jupyter.widget-view+json": {
       "model_id": "5ad1b47950b4426589cdbcaa369aa5f6",
       "version_major": 2,
       "version_minor": 0
      },
      "text/plain": [
       "Groundedness per statement in source:   0%|          | 0/1 [00:00<?, ?it/s]"
      ]
     },
     "metadata": {},
     "output_type": "display_data"
    }
   ],
   "source": [
    "records, feedback = tru.get_records_and_feedback(app_ids=[])"
   ]
  },
  {
   "cell_type": "code",
   "execution_count": 14,
   "id": "d55931bd-79df-4b67-83ff-023612237ec8",
   "metadata": {},
   "outputs": [
    {
     "data": {
      "text/html": [
       "<div>\n",
       "<style scoped>\n",
       "    .dataframe tbody tr th:only-of-type {\n",
       "        vertical-align: middle;\n",
       "    }\n",
       "\n",
       "    .dataframe tbody tr th {\n",
       "        vertical-align: top;\n",
       "    }\n",
       "\n",
       "    .dataframe thead th {\n",
       "        text-align: right;\n",
       "    }\n",
       "</style>\n",
       "<table border=\"1\" class=\"dataframe\">\n",
       "  <thead>\n",
       "    <tr style=\"text-align: right;\">\n",
       "      <th></th>\n",
       "      <th>input</th>\n",
       "      <th>output</th>\n",
       "      <th>Context Relevance</th>\n",
       "      <th>Answer Relevance</th>\n",
       "      <th>Groundedness</th>\n",
       "    </tr>\n",
       "  </thead>\n",
       "  <tbody>\n",
       "    <tr>\n",
       "      <th>0</th>\n",
       "      <td>\"Can you name the first book of the Bible?\"</td>\n",
       "      <td>\"Genesis\"</td>\n",
       "      <td>0.0</td>\n",
       "      <td>1.0</td>\n",
       "      <td>1.0</td>\n",
       "    </tr>\n",
       "    <tr>\n",
       "      <th>1</th>\n",
       "      <td>\"Who is considered the author of the Book of Genesis?\"</td>\n",
       "      <td>\"The author of the Book of Genesis is traditionally believed to be Moses.\"</td>\n",
       "      <td>0.0</td>\n",
       "      <td>0.9</td>\n",
       "      <td>0.0</td>\n",
       "    </tr>\n",
       "    <tr>\n",
       "      <th>2</th>\n",
       "      <td>\"In which book of the Bible can the Ten Commandments be found?\"</td>\n",
       "      <td>\"Exodus\"</td>\n",
       "      <td>0.0</td>\n",
       "      <td>1.0</td>\n",
       "      <td>1.0</td>\n",
       "    </tr>\n",
       "    <tr>\n",
       "      <th>3</th>\n",
       "      <td>\"What is the name of the city where Jesus was born according to the New Testament?\"</td>\n",
       "      <td>\"Bethlehem.\"</td>\n",
       "      <td>0.0</td>\n",
       "      <td>1.0</td>\n",
       "      <td>0.0</td>\n",
       "    </tr>\n",
       "    <tr>\n",
       "      <th>4</th>\n",
       "      <td>\"Can you name the four Gospels in the New Testament?\"</td>\n",
       "      <td>\"Matthew, Mark, Luke, and John\"</td>\n",
       "      <td>0.0</td>\n",
       "      <td>1.0</td>\n",
       "      <td>0.0</td>\n",
       "    </tr>\n",
       "    <tr>\n",
       "      <th>5</th>\n",
       "      <td>\"Which prophet is known for being swallowed by a big fish?\"</td>\n",
       "      <td>\"Jonah\"</td>\n",
       "      <td>0.0</td>\n",
       "      <td>1.0</td>\n",
       "      <td>0.0</td>\n",
       "    </tr>\n",
       "    <tr>\n",
       "      <th>6</th>\n",
       "      <td>\"What is the shortest verse in the Bible?\"</td>\n",
       "      <td>\"Jesus wept.\"</td>\n",
       "      <td>0.0</td>\n",
       "      <td>1.0</td>\n",
       "      <td>0.0</td>\n",
       "    </tr>\n",
       "    <tr>\n",
       "      <th>7</th>\n",
       "      <td>\"Who betrayed Jesus according to the New Testament?\"</td>\n",
       "      <td>\"Judas Iscariot betrayed Jesus according to the New Testament.\"</td>\n",
       "      <td>0.0</td>\n",
       "      <td>1.0</td>\n",
       "      <td>0.0</td>\n",
       "    </tr>\n",
       "    <tr>\n",
       "      <th>8</th>\n",
       "      <td>\"In which book of the Bible can the story of Noah's Ark be found?\"</td>\n",
       "      <td>\"Genesis\"</td>\n",
       "      <td>NaN</td>\n",
       "      <td>1.0</td>\n",
       "      <td>NaN</td>\n",
       "    </tr>\n",
       "    <tr>\n",
       "      <th>9</th>\n",
       "      <td>\"Can you name one of the major prophets in the Old Testament?\"</td>\n",
       "      <td>\"Isaiah\"</td>\n",
       "      <td>NaN</td>\n",
       "      <td>NaN</td>\n",
       "      <td>NaN</td>\n",
       "    </tr>\n",
       "  </tbody>\n",
       "</table>\n",
       "</div>"
      ],
      "text/plain": [
       "                                                                                 input  \\\n",
       "0                                          \"Can you name the first book of the Bible?\"   \n",
       "1                               \"Who is considered the author of the Book of Genesis?\"   \n",
       "2                      \"In which book of the Bible can the Ten Commandments be found?\"   \n",
       "3  \"What is the name of the city where Jesus was born according to the New Testament?\"   \n",
       "4                                \"Can you name the four Gospels in the New Testament?\"   \n",
       "5                          \"Which prophet is known for being swallowed by a big fish?\"   \n",
       "6                                           \"What is the shortest verse in the Bible?\"   \n",
       "7                                 \"Who betrayed Jesus according to the New Testament?\"   \n",
       "8                   \"In which book of the Bible can the story of Noah's Ark be found?\"   \n",
       "9                       \"Can you name one of the major prophets in the Old Testament?\"   \n",
       "\n",
       "                                                                       output  \\\n",
       "0                                                                   \"Genesis\"   \n",
       "1  \"The author of the Book of Genesis is traditionally believed to be Moses.\"   \n",
       "2                                                                    \"Exodus\"   \n",
       "3                                                                \"Bethlehem.\"   \n",
       "4                                             \"Matthew, Mark, Luke, and John\"   \n",
       "5                                                                     \"Jonah\"   \n",
       "6                                                               \"Jesus wept.\"   \n",
       "7             \"Judas Iscariot betrayed Jesus according to the New Testament.\"   \n",
       "8                                                                   \"Genesis\"   \n",
       "9                                                                    \"Isaiah\"   \n",
       "\n",
       "   Context Relevance  Answer Relevance  Groundedness  \n",
       "0                0.0               1.0           1.0  \n",
       "1                0.0               0.9           0.0  \n",
       "2                0.0               1.0           1.0  \n",
       "3                0.0               1.0           0.0  \n",
       "4                0.0               1.0           0.0  \n",
       "5                0.0               1.0           0.0  \n",
       "6                0.0               1.0           0.0  \n",
       "7                0.0               1.0           0.0  \n",
       "8                NaN               1.0           NaN  \n",
       "9                NaN               NaN           NaN  "
      ]
     },
     "execution_count": 14,
     "metadata": {},
     "output_type": "execute_result"
    }
   ],
   "source": [
    "records[[\"input\", \"output\"] + feedback]"
   ]
  },
  {
   "cell_type": "code",
   "execution_count": 15,
   "id": "04bead30-2b0e-4d5f-b7c9-ab53cf514d0a",
   "metadata": {},
   "outputs": [
    {
     "data": {
      "application/vnd.jupyter.widget-view+json": {
       "model_id": "3576cd41b54146438880a97500edb1e2",
       "version_major": 2,
       "version_minor": 0
      },
      "text/plain": [
       "Groundedness per statement in source:   0%|          | 0/1 [00:00<?, ?it/s]"
      ]
     },
     "metadata": {},
     "output_type": "display_data"
    }
   ],
   "source": [
    "window_index = build_sentence_window_index(documents, Settings.llm)\n",
    "window_engine = get_sentence_window_query_engine(window_index)"
   ]
  },
  {
   "cell_type": "code",
   "execution_count": 16,
   "id": "c5981359-f86a-441b-9195-6da3147d5efc",
   "metadata": {},
   "outputs": [
    {
     "data": {
      "application/vnd.jupyter.widget-view+json": {
       "model_id": "5277796717174c28bee9e3f9bf260d9a",
       "version_major": 2,
       "version_minor": 0
      },
      "text/plain": [
       "Groundedness per statement in source:   0%|          | 0/1 [00:00<?, ?it/s]"
      ]
     },
     "metadata": {},
     "output_type": "display_data"
    },
    {
     "data": {
      "application/vnd.jupyter.widget-view+json": {
       "model_id": "961636b37ce94c59a06fb0b99ef51a49",
       "version_major": 2,
       "version_minor": 0
      },
      "text/plain": [
       "Groundedness per statement in source:   0%|          | 0/1 [00:00<?, ?it/s]"
      ]
     },
     "metadata": {},
     "output_type": "display_data"
    },
    {
     "data": {
      "application/vnd.jupyter.widget-view+json": {
       "model_id": "6c15fd06350d4c118a2e42e75ceca321",
       "version_major": 2,
       "version_minor": 0
      },
      "text/plain": [
       "Groundedness per statement in source:   0%|          | 0/1 [00:00<?, ?it/s]"
      ]
     },
     "metadata": {},
     "output_type": "display_data"
    },
    {
     "data": {
      "application/vnd.jupyter.widget-view+json": {
       "model_id": "d5556f77e92b4f3489ddc56ff2a521c7",
       "version_major": 2,
       "version_minor": 0
      },
      "text/plain": [
       "Groundedness per statement in source:   0%|          | 0/1 [00:00<?, ?it/s]"
      ]
     },
     "metadata": {},
     "output_type": "display_data"
    },
    {
     "data": {
      "application/vnd.jupyter.widget-view+json": {
       "model_id": "dc8f142928a84a31b7ec2c384528d4d0",
       "version_major": 2,
       "version_minor": 0
      },
      "text/plain": [
       "Groundedness per statement in source:   0%|          | 0/1 [00:00<?, ?it/s]"
      ]
     },
     "metadata": {},
     "output_type": "display_data"
    },
    {
     "data": {
      "application/vnd.jupyter.widget-view+json": {
       "model_id": "c3cb92eb2c6549f4953282eb9b1e864e",
       "version_major": 2,
       "version_minor": 0
      },
      "text/plain": [
       "Groundedness per statement in source:   0%|          | 0/1 [00:00<?, ?it/s]"
      ]
     },
     "metadata": {},
     "output_type": "display_data"
    },
    {
     "data": {
      "application/vnd.jupyter.widget-view+json": {
       "model_id": "246957ac51f74cd1acbd9f786b8110f4",
       "version_major": 2,
       "version_minor": 0
      },
      "text/plain": [
       "Groundedness per statement in source:   0%|          | 0/1 [00:00<?, ?it/s]"
      ]
     },
     "metadata": {},
     "output_type": "display_data"
    },
    {
     "data": {
      "application/vnd.jupyter.widget-view+json": {
       "model_id": "2a2f2c46d61344d9867c641815f2b205",
       "version_major": 2,
       "version_minor": 0
      },
      "text/plain": [
       "Groundedness per statement in source:   0%|          | 0/1 [00:00<?, ?it/s]"
      ]
     },
     "metadata": {},
     "output_type": "display_data"
    },
    {
     "data": {
      "application/vnd.jupyter.widget-view+json": {
       "model_id": "a54f108129d94fdc8fb2aacdae6d25f0",
       "version_major": 2,
       "version_minor": 0
      },
      "text/plain": [
       "Groundedness per statement in source:   0%|          | 0/1 [00:00<?, ?it/s]"
      ]
     },
     "metadata": {},
     "output_type": "display_data"
    },
    {
     "data": {
      "application/vnd.jupyter.widget-view+json": {
       "model_id": "9198025db8d045fdb3a40d5031869f4d",
       "version_major": 2,
       "version_minor": 0
      },
      "text/plain": [
       "Groundedness per statement in source:   0%|          | 0/1 [00:00<?, ?it/s]"
      ]
     },
     "metadata": {},
     "output_type": "display_data"
    },
    {
     "data": {
      "application/vnd.jupyter.widget-view+json": {
       "model_id": "591083ce4e8c4dfe9178c9b05a3f8a17",
       "version_major": 2,
       "version_minor": 0
      },
      "text/plain": [
       "Groundedness per statement in source:   0%|          | 0/1 [00:00<?, ?it/s]"
      ]
     },
     "metadata": {},
     "output_type": "display_data"
    },
    {
     "data": {
      "text/plain": [
       "TruLlama(tru_class_info=trulens_eval.tru_llama.TruLlama, app_id='Window Engine', tags='-', metadata={}, feedback_definitions=[], feedback_mode=<FeedbackMode.WITH_APP_THREAD: 'with_app_thread'>, root_class=llama_index.core.query_engine.retriever_query_engine.RetrieverQueryEngine, app=<llama_index.core.query_engine.retriever_query_engine.RetrieverQueryEngine object at 0x32378f290>, initial_app_loader_dump=None, app_extra_json={}, feedbacks=[FeedbackDefinition(Answer Relevance,\n",
       "\tselectors={'prompt': Lens().__record__.main_input, 'response': Lens().__record__.main_output},\n",
       "\tif_exists=None\n",
       "), FeedbackDefinition(Context Relevance,\n",
       "\tselectors={'prompt': Lens().__record__.main_input, 'response': Lens().__record__.app.query.rets.source_nodes[:].node.text},\n",
       "\tif_exists=None\n",
       "), FeedbackDefinition(Groundedness,\n",
       "\tselectors={'source': Lens().__record__.app.query.rets.source_nodes[:].node.text, 'statement': Lens().__record__.main_output},\n",
       "\tif_exists=None\n",
       ")], tru=<trulens_eval.tru.Tru object at 0x3755cdd90>, db=SQLAlchemyDB(redact_keys=False, table_prefix='trulens_', engine_params={'url': 'sqlite:///default.sqlite', 'pool_size': 10, 'pool_recycle': 300, 'pool_pre_ping': True, 'max_overflow': 2, 'pool_use_lifo': True}, session_params={}, engine=Engine(sqlite:///default.sqlite), session=sessionmaker(class_='Session', bind=Engine(sqlite:///default.sqlite), autoflush=True, expire_on_commit=True), orm=<class 'trulens_eval.database.orm.new_orm.<locals>.NewORM'>), instrument=<trulens_eval.tru_llama.LlamaInstrument object at 0x3752f7b90>, recording_contexts=<ContextVar name='recording_contexts' at 0x3999694e0>, instrumented_methods={13479954512: {<function BaseRetriever.retrieve at 0x176130fe0>: Lens().app._retriever, <function VectorIndexRetriever._retrieve at 0x31217a660>: Lens().app._retriever, <function VectorIndexRetriever._aretrieve at 0x31217aa20>: Lens().app._retriever, <function BaseRetriever._retrieve at 0x1761314e0>: Lens().app._retriever, <function BaseRetriever._aretrieve at 0x176131440>: Lens().app._retriever}, 13479906000: {<function llm_completion_callback.<locals>.wrap.<locals>.wrapped_llm_predict at 0x313a86c00>: Lens().app._response_synthesizer._llm, <function llm_completion_callback.<locals>.wrap.<locals>.wrapped_llm_predict at 0x313a86e80>: Lens().app._response_synthesizer._llm, <function llm_completion_callback.<locals>.wrap.<locals>.wrapped_async_llm_predict at 0x313a90360>: Lens().app._response_synthesizer._llm, <function llm_completion_callback.<locals>.wrap.<locals>.wrapped_async_llm_predict at 0x313a905e0>: Lens().app._response_synthesizer._llm, <function llm_chat_callback.<locals>.wrap.<locals>.wrapped_llm_chat at 0x313a86700>: Lens().app._response_synthesizer._llm, <function llm_chat_callback.<locals>.wrap.<locals>.wrapped_async_llm_chat at 0x313a87e20>: Lens().app._response_synthesizer._llm, <function llm_chat_callback.<locals>.wrap.<locals>.wrapped_llm_chat at 0x313a86980>: Lens().app._response_synthesizer._llm, <function BaseLLM.complete at 0x169629b20>: Lens().app._response_synthesizer._llm, <function BaseLLM.stream_complete at 0x169629d00>: Lens().app._response_synthesizer._llm, <function BaseLLM.acomplete at 0x169629e40>: Lens().app._response_synthesizer._llm, <function BaseLLM.astream_complete at 0x169629f80>: Lens().app._response_synthesizer._llm, <function BaseLLM.chat at 0x169629bc0>: Lens().app._response_synthesizer._llm, <function BaseLLM.achat at 0x169629da0>: Lens().app._response_synthesizer._llm, <function BaseLLM.stream_chat at 0x169629c60>: Lens().app._response_synthesizer._llm}, 15478666384: {<function CompactAndRefine.get_response at 0x176306480>: Lens().app._response_synthesizer, <function Refine.get_response at 0x176305d00>: Lens().app._response_synthesizer, <function BaseSynthesizer.get_response at 0x1762bf560>: Lens().app._response_synthesizer}, 13480030864: {<function BaseQueryEngine.query at 0x169656200>: Lens().app, <function BaseQueryEngine.aquery at 0x1696565c0>: Lens().app, <function RetrieverQueryEngine.retrieve at 0x3234811c0>: Lens().app, <function RetrieverQueryEngine.synthesize at 0x3234813a0>: Lens().app, <function BaseQueryEngine.retrieve at 0x169656700>: Lens().app, <function BaseQueryEngine.synthesize at 0x169656660>: Lens().app}, 15460333840: {<function MetadataReplacementPostProcessor._postprocess_nodes at 0x1763293a0>: Lens().app._node_postprocessors[0], <function BaseNodePostprocessor._postprocess_nodes at 0x176328540>: Lens().app._node_postprocessors[0]}, 15461968032: {<function SentenceTransformerRerank._postprocess_nodes at 0x17635d940>: Lens().app._node_postprocessors[1], <function BaseNodePostprocessor._postprocess_nodes at 0x176328540>: Lens().app._node_postprocessors[1]}}, records_with_pending_feedback_results=<queue.Queue object at 0x3752dc990>, manage_pending_feedback_results_thread=<Thread(Thread-8 (_future_target_wrapper), started daemon 16657674240)>, selector_check_warning=False, selector_nocheck=False)"
      ]
     },
     "execution_count": 16,
     "metadata": {},
     "output_type": "execute_result"
    }
   ],
   "source": [
    "evaluate_engine(\n",
    "    query_engine=window_engine,\n",
    "    feedbacks=feedbacks,\n",
    "    app_id=\"Window Engine\",\n",
    "    eval_questions=eval_questions,\n",
    "    verbose=False\n",
    ")"
   ]
  },
  {
   "cell_type": "code",
   "execution_count": 17,
   "id": "38235318-3143-4e83-8695-d5193cde6565",
   "metadata": {},
   "outputs": [
    {
     "data": {
      "application/vnd.jupyter.widget-view+json": {
       "model_id": "fb1bb14180d34b70a8e6c9ddf21f603f",
       "version_major": 2,
       "version_minor": 0
      },
      "text/plain": [
       "Groundedness per statement in source:   0%|          | 0/1 [00:00<?, ?it/s]"
      ]
     },
     "metadata": {},
     "output_type": "display_data"
    }
   ],
   "source": [
    "merging_index = build_automerging_index(documents, Settings.llm, chunk_sizes=[1024, 256, 64])\n",
    "merging_engine = get_automerging_query_engine(merging_index)"
   ]
  },
  {
   "cell_type": "code",
   "execution_count": 18,
   "id": "2c4cda28-f355-46b4-a8d3-1ed2994fca33",
   "metadata": {},
   "outputs": [
    {
     "name": "stdout",
     "output_type": "stream",
     "text": [
      "> Merging 3 nodes into parent node.\n",
      "> Parent node id: 0b1be9dd-e5fa-43f0-9f3c-1dd6bacae030.\n",
      "> Parent node text: rather than letting others define if for you.  Incorpora te dramatic devices into your public \n",
      "ge...\n",
      "\n",
      "> Merging 1 nodes into parent node.\n",
      "> Parent node id: 90c41ad9-37a1-4c23-9640-14768c414c00.\n",
      "> Parent node text: rather than letting others define if for you.  Incorpora te dramatic devices into your public \n",
      "ge...\n",
      "\n"
     ]
    },
    {
     "data": {
      "application/vnd.jupyter.widget-view+json": {
       "model_id": "96c4b686bb5b4bec99b92339aa32a5d8",
       "version_major": 2,
       "version_minor": 0
      },
      "text/plain": [
       "Groundedness per statement in source:   0%|          | 0/1 [00:00<?, ?it/s]"
      ]
     },
     "metadata": {},
     "output_type": "display_data"
    },
    {
     "name": "stdout",
     "output_type": "stream",
     "text": [
      "> Merging 1 nodes into parent node.\n",
      "> Parent node id: 86cae63a-5ca0-4279-b238-aa2c78341bc0.\n",
      "> Parent node text: They are wolves in lambs’ clothing.  Choose your \n",
      "victims and opponents carefully, then – never o...\n",
      "\n"
     ]
    },
    {
     "data": {
      "application/vnd.jupyter.widget-view+json": {
       "model_id": "de443ad455e44c35a5327661f18db281",
       "version_major": 2,
       "version_minor": 0
      },
      "text/plain": [
       "Groundedness per statement in source:   0%|          | 0/1 [00:00<?, ?it/s]"
      ]
     },
     "metadata": {},
     "output_type": "display_data"
    },
    {
     "name": "stdout",
     "output_type": "stream",
     "text": [
      "> Merging 3 nodes into parent node.\n",
      "> Parent node id: 0b1be9dd-e5fa-43f0-9f3c-1dd6bacae030.\n",
      "> Parent node text: rather than letting others define if for you.  Incorpora te dramatic devices into your public \n",
      "ge...\n",
      "\n",
      "> Merging 1 nodes into parent node.\n",
      "> Parent node id: 86cae63a-5ca0-4279-b238-aa2c78341bc0.\n",
      "> Parent node text: They are wolves in lambs’ clothing.  Choose your \n",
      "victims and opponents carefully, then – never o...\n",
      "\n",
      "> Merging 1 nodes into parent node.\n",
      "> Parent node id: 90c41ad9-37a1-4c23-9640-14768c414c00.\n",
      "> Parent node text: rather than letting others define if for you.  Incorpora te dramatic devices into your public \n",
      "ge...\n",
      "\n"
     ]
    },
    {
     "data": {
      "application/vnd.jupyter.widget-view+json": {
       "model_id": "ff174385bcdd4b828832c1a472a10c35",
       "version_major": 2,
       "version_minor": 0
      },
      "text/plain": [
       "Groundedness per statement in source:   0%|          | 0/1 [00:00<?, ?it/s]"
      ]
     },
     "metadata": {},
     "output_type": "display_data"
    },
    {
     "data": {
      "application/vnd.jupyter.widget-view+json": {
       "model_id": "d462d359b928400dbb5a89d95362e0ba",
       "version_major": 2,
       "version_minor": 0
      },
      "text/plain": [
       "Groundedness per statement in source:   0%|          | 0/1 [00:00<?, ?it/s]"
      ]
     },
     "metadata": {},
     "output_type": "display_data"
    },
    {
     "name": "stdout",
     "output_type": "stream",
     "text": [
      "> Merging 1 nodes into parent node.\n",
      "> Parent node id: 86cae63a-5ca0-4279-b238-aa2c78341bc0.\n",
      "> Parent node text: They are wolves in lambs’ clothing.  Choose your \n",
      "victims and opponents carefully, then – never o...\n",
      "\n"
     ]
    },
    {
     "data": {
      "application/vnd.jupyter.widget-view+json": {
       "model_id": "ef1a70f913294759afa9430e9420832e",
       "version_major": 2,
       "version_minor": 0
      },
      "text/plain": [
       "Groundedness per statement in source:   0%|          | 0/1 [00:00<?, ?it/s]"
      ]
     },
     "metadata": {},
     "output_type": "display_data"
    },
    {
     "data": {
      "application/vnd.jupyter.widget-view+json": {
       "model_id": "2618a99baf8c4dd391d600b24bc07705",
       "version_major": 2,
       "version_minor": 0
      },
      "text/plain": [
       "Groundedness per statement in source:   0%|          | 0/1 [00:00<?, ?it/s]"
      ]
     },
     "metadata": {},
     "output_type": "display_data"
    },
    {
     "data": {
      "application/vnd.jupyter.widget-view+json": {
       "model_id": "8145acc0977b4ade9a434448c8f0f9b5",
       "version_major": 2,
       "version_minor": 0
      },
      "text/plain": [
       "Groundedness per statement in source:   0%|          | 0/1 [00:00<?, ?it/s]"
      ]
     },
     "metadata": {},
     "output_type": "display_data"
    },
    {
     "data": {
      "application/vnd.jupyter.widget-view+json": {
       "model_id": "94e489c85a80421c8b15e3e624a0fd55",
       "version_major": 2,
       "version_minor": 0
      },
      "text/plain": [
       "Groundedness per statement in source:   0%|          | 0/1 [00:00<?, ?it/s]"
      ]
     },
     "metadata": {},
     "output_type": "display_data"
    },
    {
     "name": "stdout",
     "output_type": "stream",
     "text": [
      "> Merging 3 nodes into parent node.\n",
      "> Parent node id: 0b1be9dd-e5fa-43f0-9f3c-1dd6bacae030.\n",
      "> Parent node text: rather than letting others define if for you.  Incorpora te dramatic devices into your public \n",
      "ge...\n",
      "\n",
      "> Merging 1 nodes into parent node.\n",
      "> Parent node id: 86cae63a-5ca0-4279-b238-aa2c78341bc0.\n",
      "> Parent node text: They are wolves in lambs’ clothing.  Choose your \n",
      "victims and opponents carefully, then – never o...\n",
      "\n",
      "> Merging 1 nodes into parent node.\n",
      "> Parent node id: 90c41ad9-37a1-4c23-9640-14768c414c00.\n",
      "> Parent node text: rather than letting others define if for you.  Incorpora te dramatic devices into your public \n",
      "ge...\n",
      "\n"
     ]
    },
    {
     "data": {
      "application/vnd.jupyter.widget-view+json": {
       "model_id": "3f48458cad1d4e4b89ffd8dc18527a3c",
       "version_major": 2,
       "version_minor": 0
      },
      "text/plain": [
       "Groundedness per statement in source:   0%|          | 0/1 [00:00<?, ?it/s]"
      ]
     },
     "metadata": {},
     "output_type": "display_data"
    },
    {
     "data": {
      "application/vnd.jupyter.widget-view+json": {
       "model_id": "fbf56057515044c392c54c756e12b0dc",
       "version_major": 2,
       "version_minor": 0
      },
      "text/plain": [
       "Groundedness per statement in source:   0%|          | 0/1 [00:00<?, ?it/s]"
      ]
     },
     "metadata": {},
     "output_type": "display_data"
    },
    {
     "data": {
      "application/vnd.jupyter.widget-view+json": {
       "model_id": "55b8f498cf794610bdfd5cc7b06877f8",
       "version_major": 2,
       "version_minor": 0
      },
      "text/plain": [
       "Groundedness per statement in source:   0%|          | 0/1 [00:00<?, ?it/s]"
      ]
     },
     "metadata": {},
     "output_type": "display_data"
    },
    {
     "data": {
      "application/vnd.jupyter.widget-view+json": {
       "model_id": "9c44db8208344db8814a1f13cd98dd99",
       "version_major": 2,
       "version_minor": 0
      },
      "text/plain": [
       "Groundedness per statement in source:   0%|          | 0/1 [00:00<?, ?it/s]"
      ]
     },
     "metadata": {},
     "output_type": "display_data"
    },
    {
     "data": {
      "application/vnd.jupyter.widget-view+json": {
       "model_id": "1b039ae9fa764d42b42cb5bffa5e8669",
       "version_major": 2,
       "version_minor": 0
      },
      "text/plain": [
       "Groundedness per statement in source:   0%|          | 0/1 [00:00<?, ?it/s]"
      ]
     },
     "metadata": {},
     "output_type": "display_data"
    },
    {
     "data": {
      "application/vnd.jupyter.widget-view+json": {
       "model_id": "0b85b72349b64e0a8dde5fa280b46dd2",
       "version_major": 2,
       "version_minor": 0
      },
      "text/plain": [
       "Groundedness per statement in source:   0%|          | 0/1 [00:00<?, ?it/s]"
      ]
     },
     "metadata": {},
     "output_type": "display_data"
    },
    {
     "data": {
      "application/vnd.jupyter.widget-view+json": {
       "model_id": "b692efa489d34f7cbbfd18319a55f53d",
       "version_major": 2,
       "version_minor": 0
      },
      "text/plain": [
       "Groundedness per statement in source:   0%|          | 0/1 [00:00<?, ?it/s]"
      ]
     },
     "metadata": {},
     "output_type": "display_data"
    },
    {
     "data": {
      "application/vnd.jupyter.widget-view+json": {
       "model_id": "e61ebd9deb8d4251a5225feb59b0d808",
       "version_major": 2,
       "version_minor": 0
      },
      "text/plain": [
       "Groundedness per statement in source:   0%|          | 0/1 [00:00<?, ?it/s]"
      ]
     },
     "metadata": {},
     "output_type": "display_data"
    },
    {
     "data": {
      "application/vnd.jupyter.widget-view+json": {
       "model_id": "81ab8fdf24654801a4d9aba6c7440e82",
       "version_major": 2,
       "version_minor": 0
      },
      "text/plain": [
       "Groundedness per statement in source:   0%|          | 0/1 [00:00<?, ?it/s]"
      ]
     },
     "metadata": {},
     "output_type": "display_data"
    },
    {
     "name": "stdout",
     "output_type": "stream",
     "text": [
      "> Merging 1 nodes into parent node.\n",
      "> Parent node id: 86cae63a-5ca0-4279-b238-aa2c78341bc0.\n",
      "> Parent node text: They are wolves in lambs’ clothing.  Choose your \n",
      "victims and opponents carefully, then – never o...\n",
      "\n"
     ]
    },
    {
     "data": {
      "application/vnd.jupyter.widget-view+json": {
       "model_id": "0eb471e0d7894d14a3762a038599eb96",
       "version_major": 2,
       "version_minor": 0
      },
      "text/plain": [
       "Groundedness per statement in source:   0%|          | 0/1 [00:00<?, ?it/s]"
      ]
     },
     "metadata": {},
     "output_type": "display_data"
    },
    {
     "data": {
      "application/vnd.jupyter.widget-view+json": {
       "model_id": "f8b0a5dd05e94f718e14a35ba588ec1e",
       "version_major": 2,
       "version_minor": 0
      },
      "text/plain": [
       "Groundedness per statement in source:   0%|          | 0/1 [00:00<?, ?it/s]"
      ]
     },
     "metadata": {},
     "output_type": "display_data"
    },
    {
     "name": "stdout",
     "output_type": "stream",
     "text": [
      "> Merging 1 nodes into parent node.\n",
      "> Parent node id: 86cae63a-5ca0-4279-b238-aa2c78341bc0.\n",
      "> Parent node text: They are wolves in lambs’ clothing.  Choose your \n",
      "victims and opponents carefully, then – never o...\n",
      "\n"
     ]
    },
    {
     "data": {
      "application/vnd.jupyter.widget-view+json": {
       "model_id": "0ee3ea668f4c497589ec6734294614a6",
       "version_major": 2,
       "version_minor": 0
      },
      "text/plain": [
       "Groundedness per statement in source:   0%|          | 0/1 [00:00<?, ?it/s]"
      ]
     },
     "metadata": {},
     "output_type": "display_data"
    },
    {
     "name": "stdout",
     "output_type": "stream",
     "text": [
      "> Merging 1 nodes into parent node.\n",
      "> Parent node id: 86cae63a-5ca0-4279-b238-aa2c78341bc0.\n",
      "> Parent node text: They are wolves in lambs’ clothing.  Choose your \n",
      "victims and opponents carefully, then – never o...\n",
      "\n"
     ]
    },
    {
     "data": {
      "application/vnd.jupyter.widget-view+json": {
       "model_id": "c99f9c0d39164e859734eef79e3a0f41",
       "version_major": 2,
       "version_minor": 0
      },
      "text/plain": [
       "Groundedness per statement in source:   0%|          | 0/1 [00:00<?, ?it/s]"
      ]
     },
     "metadata": {},
     "output_type": "display_data"
    },
    {
     "data": {
      "application/vnd.jupyter.widget-view+json": {
       "model_id": "ed48a81c9433485aa8759a81ec04dfcc",
       "version_major": 2,
       "version_minor": 0
      },
      "text/plain": [
       "Groundedness per statement in source:   0%|          | 0/1 [00:00<?, ?it/s]"
      ]
     },
     "metadata": {},
     "output_type": "display_data"
    },
    {
     "name": "stdout",
     "output_type": "stream",
     "text": [
      "> Merging 3 nodes into parent node.\n",
      "> Parent node id: 0b1be9dd-e5fa-43f0-9f3c-1dd6bacae030.\n",
      "> Parent node text: rather than letting others define if for you.  Incorpora te dramatic devices into your public \n",
      "ge...\n",
      "\n",
      "> Merging 1 nodes into parent node.\n",
      "> Parent node id: 86cae63a-5ca0-4279-b238-aa2c78341bc0.\n",
      "> Parent node text: They are wolves in lambs’ clothing.  Choose your \n",
      "victims and opponents carefully, then – never o...\n",
      "\n",
      "> Merging 1 nodes into parent node.\n",
      "> Parent node id: 90c41ad9-37a1-4c23-9640-14768c414c00.\n",
      "> Parent node text: rather than letting others define if for you.  Incorpora te dramatic devices into your public \n",
      "ge...\n",
      "\n"
     ]
    },
    {
     "data": {
      "application/vnd.jupyter.widget-view+json": {
       "model_id": "30423472d3bb43e4bbdae70078dbd38a",
       "version_major": 2,
       "version_minor": 0
      },
      "text/plain": [
       "Groundedness per statement in source:   0%|          | 0/1 [00:00<?, ?it/s]"
      ]
     },
     "metadata": {},
     "output_type": "display_data"
    },
    {
     "data": {
      "text/plain": [
       "TruLlama(tru_class_info=trulens_eval.tru_llama.TruLlama, app_id='Merging Engine', tags='-', metadata={}, feedback_definitions=[], feedback_mode=<FeedbackMode.WITH_APP_THREAD: 'with_app_thread'>, root_class=llama_index.core.query_engine.retriever_query_engine.RetrieverQueryEngine, app=<llama_index.core.query_engine.retriever_query_engine.RetrieverQueryEngine object at 0x3b5f9e450>, initial_app_loader_dump=None, app_extra_json={}, feedbacks=[FeedbackDefinition(Answer Relevance,\n",
       "\tselectors={'prompt': Lens().__record__.main_input, 'response': Lens().__record__.main_output},\n",
       "\tif_exists=None\n",
       "), FeedbackDefinition(Context Relevance,\n",
       "\tselectors={'prompt': Lens().__record__.main_input, 'response': Lens().__record__.app.query.rets.source_nodes[:].node.text},\n",
       "\tif_exists=None\n",
       "), FeedbackDefinition(Groundedness,\n",
       "\tselectors={'source': Lens().__record__.app.query.rets.source_nodes[:].node.text, 'statement': Lens().__record__.main_output},\n",
       "\tif_exists=None\n",
       ")], tru=<trulens_eval.tru.Tru object at 0x3755cdd90>, db=SQLAlchemyDB(redact_keys=False, table_prefix='trulens_', engine_params={'url': 'sqlite:///default.sqlite', 'pool_size': 10, 'pool_recycle': 300, 'pool_pre_ping': True, 'max_overflow': 2, 'pool_use_lifo': True}, session_params={}, engine=Engine(sqlite:///default.sqlite), session=sessionmaker(class_='Session', bind=Engine(sqlite:///default.sqlite), autoflush=True, expire_on_commit=True), orm=<class 'trulens_eval.database.orm.new_orm.<locals>.NewORM'>), instrument=<trulens_eval.tru_llama.LlamaInstrument object at 0x3b5f9e090>, recording_contexts=<ContextVar name='recording_contexts' at 0x3b63e4770>, instrumented_methods={15939976528: {<function BaseRetriever.retrieve at 0x176130fe0>: Lens().app._retriever._vector_retriever, <function VectorIndexRetriever._retrieve at 0x31217a660>: Lens().app._retriever._vector_retriever, <function VectorIndexRetriever._aretrieve at 0x31217aa20>: Lens().app._retriever._vector_retriever, <function BaseRetriever._retrieve at 0x1761314e0>: Lens().app._retriever._vector_retriever, <function BaseRetriever._aretrieve at 0x176131440>: Lens().app._retriever._vector_retriever}, 15346258832: {<function BaseRetriever.retrieve at 0x176130fe0>: Lens().app._retriever, <function AutoMergingRetriever._retrieve at 0x3233c9d00>: Lens().app._retriever, <function BaseRetriever._aretrieve at 0x176131440>: Lens().app._retriever, <function BaseRetriever._retrieve at 0x1761314e0>: Lens().app._retriever}, 13479906000: {<function llm_completion_callback.<locals>.wrap.<locals>.wrapped_llm_predict at 0x313a86c00>: Lens().app._response_synthesizer._llm, <function llm_completion_callback.<locals>.wrap.<locals>.wrapped_llm_predict at 0x313a86e80>: Lens().app._response_synthesizer._llm, <function llm_completion_callback.<locals>.wrap.<locals>.wrapped_async_llm_predict at 0x313a90360>: Lens().app._response_synthesizer._llm, <function llm_completion_callback.<locals>.wrap.<locals>.wrapped_async_llm_predict at 0x313a905e0>: Lens().app._response_synthesizer._llm, <function llm_chat_callback.<locals>.wrap.<locals>.wrapped_llm_chat at 0x313a86700>: Lens().app._response_synthesizer._llm, <function llm_chat_callback.<locals>.wrap.<locals>.wrapped_async_llm_chat at 0x313a87e20>: Lens().app._response_synthesizer._llm, <function llm_chat_callback.<locals>.wrap.<locals>.wrapped_llm_chat at 0x313a86980>: Lens().app._response_synthesizer._llm, <function BaseLLM.complete at 0x169629b20>: Lens().app._response_synthesizer._llm, <function BaseLLM.stream_complete at 0x169629d00>: Lens().app._response_synthesizer._llm, <function BaseLLM.acomplete at 0x169629e40>: Lens().app._response_synthesizer._llm, <function BaseLLM.astream_complete at 0x169629f80>: Lens().app._response_synthesizer._llm, <function BaseLLM.chat at 0x169629bc0>: Lens().app._response_synthesizer._llm, <function BaseLLM.achat at 0x169629da0>: Lens().app._response_synthesizer._llm, <function BaseLLM.stream_chat at 0x169629c60>: Lens().app._response_synthesizer._llm}, 15937957200: {<function CompactAndRefine.get_response at 0x176306480>: Lens().app._response_synthesizer, <function Refine.get_response at 0x176305d00>: Lens().app._response_synthesizer, <function BaseSynthesizer.get_response at 0x1762bf560>: Lens().app._response_synthesizer}, 15937954896: {<function BaseQueryEngine.query at 0x169656200>: Lens().app, <function BaseQueryEngine.aquery at 0x1696565c0>: Lens().app, <function RetrieverQueryEngine.retrieve at 0x3234811c0>: Lens().app, <function RetrieverQueryEngine.synthesize at 0x3234813a0>: Lens().app, <function BaseQueryEngine.retrieve at 0x169656700>: Lens().app, <function BaseQueryEngine.synthesize at 0x169656660>: Lens().app}, 15941646960: {<function SentenceTransformerRerank._postprocess_nodes at 0x17635d940>: Lens().app._node_postprocessors[0], <function BaseNodePostprocessor._postprocess_nodes at 0x176328540>: Lens().app._node_postprocessors[0]}}, records_with_pending_feedback_results=<queue.Queue object at 0x3b5f9ee10>, manage_pending_feedback_results_thread=<Thread(Thread-9 (_future_target_wrapper), started daemon 16305483776)>, selector_check_warning=False, selector_nocheck=False)"
      ]
     },
     "execution_count": 18,
     "metadata": {},
     "output_type": "execute_result"
    }
   ],
   "source": [
    "evaluate_engine(\n",
    "    query_engine=merging_engine,\n",
    "    feedbacks=feedbacks,\n",
    "    app_id=\"Merging Engine\",\n",
    "    eval_questions=eval_questions,\n",
    "    verbose=False\n",
    ")"
   ]
  },
  {
   "cell_type": "code",
   "execution_count": 19,
   "id": "2b7e4e5b-a044-40f0-8403-3b401058b283",
   "metadata": {},
   "outputs": [
    {
     "data": {
      "application/vnd.jupyter.widget-view+json": {
       "model_id": "c0d96efaba424b06bd6b073b2d295be1",
       "version_major": 2,
       "version_minor": 0
      },
      "text/plain": [
       "Groundedness per statement in source:   0%|          | 0/1 [00:00<?, ?it/s]"
      ]
     },
     "metadata": {},
     "output_type": "display_data"
    },
    {
     "name": "stdout",
     "output_type": "stream",
     "text": [
      "Starting dashboard ...\n",
      "Config file already exists. Skipping writing process.\n",
      "Credentials file already exists. Skipping writing process.\n"
     ]
    },
    {
     "name": "stderr",
     "output_type": "stream",
     "text": [
      "huggingface/tokenizers: The current process just got forked, after parallelism has already been used. Disabling parallelism to avoid deadlocks...\n",
      "To disable this warning, you can either:\n",
      "\t- Avoid using `tokenizers` before the fork if possible\n",
      "\t- Explicitly set the environment variable TOKENIZERS_PARALLELISM=(true | false)\n"
     ]
    },
    {
     "data": {
      "application/vnd.jupyter.widget-view+json": {
       "model_id": "fd837948a2ce48e0a2af87842a94cd56",
       "version_major": 2,
       "version_minor": 0
      },
      "text/plain": [
       "Groundedness per statement in source:   0%|          | 0/1 [00:00<?, ?it/s]"
      ]
     },
     "metadata": {},
     "output_type": "display_data"
    },
    {
     "data": {
      "application/vnd.jupyter.widget-view+json": {
       "model_id": "b8cfb1ad30c14ec0bf0486ff103e81cd",
       "version_major": 2,
       "version_minor": 0
      },
      "text/plain": [
       "Accordion(children=(VBox(children=(VBox(children=(Label(value='STDOUT'), Output())), VBox(children=(Label(valu…"
      ]
     },
     "metadata": {},
     "output_type": "display_data"
    },
    {
     "name": "stdout",
     "output_type": "stream",
     "text": [
      "Dashboard started at http://192.168.1.29:8501 .\n"
     ]
    },
    {
     "data": {
      "text/plain": [
       "<Popen: returncode: None args: ['streamlit', 'run', '--server.headless=True'...>"
      ]
     },
     "execution_count": 19,
     "metadata": {},
     "output_type": "execute_result"
    }
   ],
   "source": [
    "import nest_asyncio\n",
    "nest_asyncio.apply()\n",
    "\n",
    "tru.get_leaderboard(app_ids=[])\n",
    "tru.run_dashboard()"
   ]
  },
  {
   "cell_type": "code",
   "execution_count": null,
   "id": "cc3648c8-2f45-4446-a00a-cdcb99b9263a",
   "metadata": {},
   "outputs": [],
   "source": []
  }
 ],
 "metadata": {
  "kernelspec": {
   "display_name": "Python 3 (ipykernel)",
   "language": "python",
   "name": "python3"
  },
  "language_info": {
   "codemirror_mode": {
    "name": "ipython",
    "version": 3
   },
   "file_extension": ".py",
   "mimetype": "text/x-python",
   "name": "python",
   "nbconvert_exporter": "python",
   "pygments_lexer": "ipython3",
   "version": "3.11.7"
  }
 },
 "nbformat": 4,
 "nbformat_minor": 5
}

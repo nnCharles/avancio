{
 "cells": [
  {
   "cell_type": "code",
   "execution_count": null,
   "id": "5bea1336-eaa4-4fe2-bf61-015ad86be5af",
   "metadata": {},
   "outputs": [],
   "source": [
    "from llama_index.core import (\n",
    "    Document,\n",
    "    Settings,\n",
    "    SimpleDirectoryReader,\n",
    "    VectorStoreIndex\n",
    ")\n",
    "from llama_index.embeddings.huggingface import HuggingFaceEmbedding\n",
    "from llama_index.llms.openai import OpenAI\n",
    "import pandas as pd\n",
    "from trulens_eval import Tru, TruLlama\n",
    "from utils import (\n",
    "    build_automerging_index,\n",
    "    build_sentence_window_index,\n",
    "    evaluate_engine,\n",
    "    get_automerging_query_engine,\n",
    "    get_feedback_func,\n",
    "    get_sentence_window_query_engine,\n",
    "    setup \n",
    ")\n",
    "import warnings"
   ]
  },
  {
   "cell_type": "code",
   "execution_count": null,
   "id": "44bebf19-d9de-4174-b52d-d93a55b6dc26",
   "metadata": {},
   "outputs": [],
   "source": [
    "warnings.filterwarnings('ignore')\n",
    "pd.set_option(\"display.max_colwidth\", None)\n",
    "setup() "
   ]
  },
  {
   "cell_type": "code",
   "execution_count": null,
   "id": "aab8f616",
   "metadata": {},
   "outputs": [],
   "source": [
    "!mkdir -p '../data'\n",
    "!wget 'https://raw.githubusercontent.com/run-llama/llama_index/main/docs/docs/examples/data/paul_graham/paul_graham_essay.txt' -O '../data/paul_graham_essay.txt'"
   ]
  },
  {
   "cell_type": "code",
   "execution_count": null,
   "id": "61a8af43-0e69-4b32-8ff4-d931786b4c94",
   "metadata": {},
   "outputs": [],
   "source": [
    "documents = SimpleDirectoryReader(\n",
    "    input_files=[\"../data/paul_graham_essay.txt\"]\n",
    ").load_data()"
   ]
  },
  {
   "cell_type": "code",
   "execution_count": null,
   "id": "e20d2d2a",
   "metadata": {},
   "outputs": [],
   "source": [
    "len(documents), type(documents)"
   ]
  },
  {
   "cell_type": "code",
   "execution_count": null,
   "id": "10389b12-8dfb-4786-895e-017a5386df3a",
   "metadata": {},
   "outputs": [],
   "source": [
    "Settings.llm = OpenAI(model=\"gpt-3.5-turbo\", temperature=0.1)\n",
    "Settings.embed_model = HuggingFaceEmbedding(\n",
    "    model_name=\"BAAI/bge-small-en-v1.5\"\n",
    ")"
   ]
  },
  {
   "cell_type": "code",
   "execution_count": null,
   "id": "7cc47a00-b8d5-4fd2-a226-880cdaec7cce",
   "metadata": {},
   "outputs": [],
   "source": [
    "index = VectorStoreIndex.from_documents(documents)\n",
    "query_engine = index.as_query_engine()"
   ]
  },
  {
   "cell_type": "code",
   "execution_count": null,
   "id": "c1511bf5-6423-45b8-b267-9795f27da8d6",
   "metadata": {},
   "outputs": [],
   "source": [
    "response = query_engine.query(\"What is Paul Graham known for?\")\n",
    "str(response)"
   ]
  },
  {
   "cell_type": "code",
   "execution_count": null,
   "id": "c676bee2-718b-442b-b4c2-1c0e983257d4",
   "metadata": {},
   "outputs": [],
   "source": [
    "tru = Tru()\n",
    "tru.reset_database()"
   ]
  },
  {
   "cell_type": "code",
   "execution_count": null,
   "id": "7eb61a82-a13d-40ff-acd6-107d804171fe",
   "metadata": {},
   "outputs": [],
   "source": [
    "with open('eval_questions.txt', 'r') as file:\n",
    "    eval_questions = file.read().split(\"\\n\")"
   ]
  },
  {
   "cell_type": "code",
   "execution_count": null,
   "id": "9cd7eabd-68b4-4104-969a-55669eb6395e",
   "metadata": {},
   "outputs": [],
   "source": [
    "feedbacks = get_feedback_func()"
   ]
  },
  {
   "cell_type": "code",
   "execution_count": null,
   "id": "5d844e03-a180-4136-8410-0bb228aa56d0",
   "metadata": {},
   "outputs": [],
   "source": [
    "evaluate_engine(\n",
    "    query_engine=query_engine,\n",
    "    feedbacks=feedbacks,\n",
    "    app_id=\"Direct Query Engine\",\n",
    "    eval_questions=eval_questions,\n",
    "    verbose=False\n",
    ")"
   ]
  },
  {
   "cell_type": "code",
   "execution_count": null,
   "id": "b3dafdd8-3adc-4a24-a38f-5f41ab7d11ac",
   "metadata": {},
   "outputs": [],
   "source": [
    "records, feedback = tru.get_records_and_feedback(app_ids=[])"
   ]
  },
  {
   "cell_type": "code",
   "execution_count": null,
   "id": "d55931bd-79df-4b67-83ff-023612237ec8",
   "metadata": {},
   "outputs": [],
   "source": [
    "records[[\"input\", \"output\"] + feedback]"
   ]
  },
  {
   "cell_type": "code",
   "execution_count": null,
   "id": "04bead30-2b0e-4d5f-b7c9-ab53cf514d0a",
   "metadata": {},
   "outputs": [],
   "source": [
    "window_index = build_sentence_window_index(documents, Settings.llm)\n",
    "window_engine = get_sentence_window_query_engine(window_index)"
   ]
  },
  {
   "cell_type": "code",
   "execution_count": null,
   "id": "c5981359-f86a-441b-9195-6da3147d5efc",
   "metadata": {},
   "outputs": [],
   "source": [
    "evaluate_engine(\n",
    "    query_engine=window_engine,\n",
    "    feedbacks=feedbacks,\n",
    "    app_id=\"Window Engine\",\n",
    "    eval_questions=eval_questions,\n",
    "    verbose=False\n",
    ")"
   ]
  },
  {
   "cell_type": "code",
   "execution_count": null,
   "id": "38235318-3143-4e83-8695-d5193cde6565",
   "metadata": {},
   "outputs": [],
   "source": [
    "merging_index = build_automerging_index(documents, Settings.llm)\n",
    "merging_engine = get_automerging_query_engine(merging_index)"
   ]
  },
  {
   "cell_type": "code",
   "execution_count": null,
   "id": "2c4cda28-f355-46b4-a8d3-1ed2994fca33",
   "metadata": {},
   "outputs": [],
   "source": [
    "evaluate_engine(\n",
    "    query_engine=merging_engine,\n",
    "    feedbacks=feedbacks,\n",
    "    app_id=\"Merging Engine\",\n",
    "    eval_questions=eval_questions,\n",
    "    verbose=False\n",
    ")"
   ]
  },
  {
   "cell_type": "code",
   "execution_count": null,
   "id": "2b7e4e5b-a044-40f0-8403-3b401058b283",
   "metadata": {},
   "outputs": [],
   "source": [
    "import nest_asyncio\n",
    "nest_asyncio.apply()\n",
    "\n",
    "tru.get_leaderboard(app_ids=[])\n",
    "tru.run_dashboard()"
   ]
  },
  {
   "cell_type": "code",
   "execution_count": null,
   "id": "cc3648c8-2f45-4446-a00a-cdcb99b9263a",
   "metadata": {},
   "outputs": [],
   "source": []
  }
 ],
 "metadata": {
  "kernelspec": {
   "display_name": "Python 3 (ipykernel)",
   "language": "python",
   "name": "python3"
  },
  "language_info": {
   "codemirror_mode": {
    "name": "ipython",
    "version": 3
   },
   "file_extension": ".py",
   "mimetype": "text/x-python",
   "name": "python",
   "nbconvert_exporter": "python",
   "pygments_lexer": "ipython3",
   "version": "3.11.7"
  }
 },
 "nbformat": 4,
 "nbformat_minor": 5
}

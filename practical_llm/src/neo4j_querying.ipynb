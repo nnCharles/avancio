{
 "cells": [
  {
   "cell_type": "code",
   "execution_count": 1,
   "id": "ab2cd8e3-d65b-4609-bdb7-a3253586f52d",
   "metadata": {},
   "outputs": [],
   "source": [
    "import os\n",
    "from dotenv import load_dotenv, find_dotenv\n",
    "from langchain_community.graphs import Neo4jGraph\n",
    "import openai\n",
    "\n",
    "def setup():\n",
    "    _ = load_dotenv(find_dotenv())\n",
    "    try:\n",
    "        openai.api_key = os.getenv(\"OPENAI_API_KEY\")\n",
    "    except:\n",
    "        print(\"OPENAI_API_KEY not found,\")"
   ]
  },
  {
   "cell_type": "code",
   "execution_count": 2,
   "id": "b0b9b9fa-602c-42f0-8f6b-e7290a7b1e19",
   "metadata": {},
   "outputs": [],
   "source": [
    "setup()"
   ]
  },
  {
   "cell_type": "code",
   "execution_count": 3,
   "id": "1ec16117-7a95-4528-8588-1578bc13194a",
   "metadata": {},
   "outputs": [],
   "source": [
    "from langchain_community.graphs import Neo4jGraph\n",
    "\n",
    "graph = Neo4jGraph()"
   ]
  },
  {
   "cell_type": "code",
   "execution_count": 4,
   "id": "2549b41d-ab0c-4bba-93fc-35fc0d0961fd",
   "metadata": {
    "scrolled": true
   },
   "outputs": [
    {
     "name": "stdout",
     "output_type": "stream",
     "text": [
      "Node properties:\n",
      "Intermediary {id: STRING, name: STRING, country: STRING}\n",
      "Officer {id: STRING, name: STRING, country: STRING}\n",
      "Entity {id: STRING, name: STRING, jurisdiction: STRING, incorporation_date: DATE, status: STRING, country: STRING, source: STRING}\n",
      "Relationship properties:\n",
      "RELATIONSHIP {type: STRING}\n",
      "The relationships:\n",
      "(:Intermediary)-[:RELATIONSHIP]->(:Entity)\n",
      "(:Officer)-[:RELATIONSHIP]->(:Entity)\n"
     ]
    }
   ],
   "source": [
    "graph.refresh_schema()\n",
    "print(graph.schema)"
   ]
  },
  {
   "cell_type": "code",
   "execution_count": 5,
   "id": "fa68dc3b-2424-4264-8d06-a02d04125b89",
   "metadata": {},
   "outputs": [],
   "source": [
    "from langchain.chains import GraphCypherQAChain\n",
    "from langchain_openai import ChatOpenAI\n",
    "\n",
    "llm = ChatOpenAI(model=\"gpt-3.5-turbo\", temperature=0)\n",
    "chain = GraphCypherQAChain.from_llm(graph=graph, llm=llm, verbose=True)"
   ]
  },
  {
   "cell_type": "code",
   "execution_count": 10,
   "id": "1c879771-9473-4f36-ad9e-bd56ebd5615e",
   "metadata": {},
   "outputs": [
    {
     "name": "stdout",
     "output_type": "stream",
     "text": [
      "\n",
      "\n",
      "\u001b[1m> Entering new GraphCypherQAChain chain...\u001b[0m\n",
      "Generated Cypher:\n",
      "\u001b[32;1m\u001b[1;3mMATCH (e:Entity)\n",
      "RETURN e.country, COUNT(e) AS numEntities\n",
      "ORDER BY numEntities DESC\n",
      "LIMIT 1;\u001b[0m\n",
      "Full Context:\n",
      "\u001b[32;1m\u001b[1;3m[{'e.country': 'British Virgin Islands', 'numEntities': 986}]\u001b[0m\n",
      "\n",
      "\u001b[1m> Finished chain.\u001b[0m\n"
     ]
    },
    {
     "data": {
      "text/plain": [
       "{'query': 'Where are most of the entities located?',\n",
       " 'result': 'Most of the entities are located in the British Virgin Islands.'}"
      ]
     },
     "execution_count": 10,
     "metadata": {},
     "output_type": "execute_result"
    }
   ],
   "source": [
    "response = chain.invoke({\"query\": \"Where are most of the entities located?\"})\n",
    "response"
   ]
  },
  {
   "cell_type": "code",
   "execution_count": 11,
   "id": "2afba30a-8f09-4480-b763-a4ea0503831a",
   "metadata": {},
   "outputs": [
    {
     "name": "stdout",
     "output_type": "stream",
     "text": [
      "\n",
      "\n",
      "\u001b[1m> Entering new GraphCypherQAChain chain...\u001b[0m\n",
      "Generated Cypher:\n",
      "\u001b[32;1m\u001b[1;3mMATCH (o:Officer)-[:RELATIONSHIP]->(e:Entity)\n",
      "WITH o, COUNT(e) AS numEntities\n",
      "RETURN o.name, numEntities\n",
      "ORDER BY numEntities DESC\n",
      "LIMIT 1;\u001b[0m\n",
      "Full Context:\n",
      "\u001b[32;1m\u001b[1;3m[{'o.name': 'Justine Catherine Leacacos', 'numEntities': 7}]\u001b[0m\n",
      "\n",
      "\u001b[1m> Finished chain.\u001b[0m\n"
     ]
    },
    {
     "data": {
      "text/plain": [
       "{'query': 'Who is the officer connected to the most entities?',\n",
       " 'result': 'Justine Catherine Leacacos is the officer connected to the most entities.'}"
      ]
     },
     "execution_count": 11,
     "metadata": {},
     "output_type": "execute_result"
    }
   ],
   "source": [
    "response = chain.invoke({\"query\": \"Who is the officer connected to the most entities?\"})\n",
    "response"
   ]
  },
  {
   "cell_type": "code",
   "execution_count": 13,
   "id": "d20ae361-1104-4363-88c3-41a994189b94",
   "metadata": {},
   "outputs": [
    {
     "name": "stdout",
     "output_type": "stream",
     "text": [
      "\n",
      "\n",
      "\u001b[1m> Entering new GraphCypherQAChain chain...\u001b[0m\n",
      "Generated Cypher:\n",
      "\u001b[32;1m\u001b[1;3mMATCH (i:Intermediary)-[:RELATIONSHIP]->(e:Entity)\n",
      "WHERE e.name = 'PACIFIC ASIA OVERSEAS LTD.'\n",
      "RETURN COUNT(i)\u001b[0m\n",
      "Full Context:\n",
      "\u001b[32;1m\u001b[1;3m[{'COUNT(i)': 2}]\u001b[0m\n",
      "\n",
      "\u001b[1m> Finished chain.\u001b[0m\n"
     ]
    },
    {
     "data": {
      "text/plain": [
       "{'query': 'How many intermediates deal with PACIFIC ASIA OVERSEAS LTD.?',\n",
       " 'result': 'There are 2 intermediates that deal with PACIFIC ASIA OVERSEAS LTD.'}"
      ]
     },
     "execution_count": 13,
     "metadata": {},
     "output_type": "execute_result"
    }
   ],
   "source": [
    "response = chain.invoke({\"query\": \"How many intermediates deal with PACIFIC ASIA OVERSEAS LTD.?\"})\n",
    "response"
   ]
  },
  {
   "cell_type": "code",
   "execution_count": 6,
   "id": "b6a24bb0-3f70-4cf5-8d47-87d137fb5750",
   "metadata": {},
   "outputs": [
    {
     "name": "stdout",
     "output_type": "stream",
     "text": [
      "\n",
      "\n",
      "\u001b[1m> Entering new GraphCypherQAChain chain...\u001b[0m\n",
      "Generated Cypher:\n",
      "\u001b[32;1m\u001b[1;3mMATCH path = shortestPath((i:Intermediary)-[:RELATIONSHIP*]-(e:Entity {name: \"JADE SUCCESS LIMITED\"}))\n",
      "MATCH path2 = shortestPath((o:Officer)-[:RELATIONSHIP*]-(e2:Entity {name: \"Blue Water Properties Holdings Limited\"}))\n",
      "RETURN path, path2\u001b[0m\n",
      "Full Context:\n",
      "\u001b[32;1m\u001b[1;3m[{'path': [{'country': 'CHN', 'name': 'Fang Fang', 'id': '82366'}, 'RELATIONSHIP', {'country': 'British Virgin Islands', 'jurisdiction': 'British Virgin Islands', 'name': 'GOLD SEARCH LIMITED', 'id': '125401', 'source': 'Offshore Leaks', 'incorporation_date': neo4j.time.Date(1996, 8, 23), 'status': 'Struck / Defunct / Deregistered'}, 'RELATIONSHIP', {'country': 'THA;VGB;IDN;SGP', 'name': 'Portcullis TrustNet (BVI) Limited', 'id': '54662'}, 'RELATIONSHIP', {'country': 'British Virgin Islands', 'jurisdiction': 'British Virgin Islands', 'name': 'JADE SUCCESS LIMITED', 'id': '126329', 'source': 'Offshore Leaks', 'incorporation_date': neo4j.time.Date(1997, 3, 19), 'status': 'Struck / Defunct / Deregistered'}], 'path2': [{'country': 'CHE', 'name': 'Joseph Unold', 'id': '115071'}, 'RELATIONSHIP', {'country': 'British Virgin Islands', 'jurisdiction': 'British Virgin Islands', 'name': 'ORIENT GALAXY LIMITED', 'id': '124901', 'source': 'Offshore Leaks', 'incorporation_date': neo4j.time.Date(1996, 3, 28), 'status': 'Transferred Out'}, 'RELATIONSHIP', {'country': 'THA;VGB;IDN;SGP', 'name': 'Portcullis TrustNet (BVI) Limited', 'id': '54662'}, 'RELATIONSHIP', {'country': 'British Virgin Islands', 'jurisdiction': 'British Virgin Islands', 'name': 'SUN PARADISE DEVELOPMENT LIMITED', 'id': '123542', 'source': 'Offshore Leaks', 'incorporation_date': neo4j.time.Date(1994, 4, 26), 'status': 'Struck / Defunct / Deregistered'}, 'RELATIONSHIP', {'country': 'HKG', 'name': 'RC Corporate Services Limited', 'id': '114242'}, 'RELATIONSHIP', {'country': 'British Virgin Islands', 'jurisdiction': 'British Virgin Islands', 'name': 'Blue Water Properties Holdings Limited', 'id': '127006', 'source': 'Offshore Leaks', 'incorporation_date': neo4j.time.Date(1997, 7, 18), 'status': 'Active'}]}, {'path': [{'country': 'SGP', 'name': 'Ng Lee & Associates - DFK', 'id': '95125'}, 'RELATIONSHIP', {'country': 'British Virgin Islands', 'jurisdiction': 'British Virgin Islands', 'name': 'LIEUTENANT INVESTMENTS LIMITED', 'id': '123758', 'source': 'Offshore Leaks', 'incorporation_date': neo4j.time.Date(1994, 8, 11), 'status': 'Struck / Defunct / Deregistered'}, 'RELATIONSHIP', {'country': 'THA;VGB;IDN;SGP', 'name': 'Portcullis TrustNet (BVI) Limited', 'id': '54662'}, 'RELATIONSHIP', {'country': 'British Virgin Islands', 'jurisdiction': 'British Virgin Islands', 'name': 'JADE SUCCESS LIMITED', 'id': '126329', 'source': 'Offshore Leaks', 'incorporation_date': neo4j.time.Date(1997, 3, 19), 'status': 'Struck / Defunct / Deregistered'}], 'path2': [{'country': 'CHE', 'name': 'Joseph Unold', 'id': '115071'}, 'RELATIONSHIP', {'country': 'British Virgin Islands', 'jurisdiction': 'British Virgin Islands', 'name': 'ORIENT GALAXY LIMITED', 'id': '124901', 'source': 'Offshore Leaks', 'incorporation_date': neo4j.time.Date(1996, 3, 28), 'status': 'Transferred Out'}, 'RELATIONSHIP', {'country': 'THA;VGB;IDN;SGP', 'name': 'Portcullis TrustNet (BVI) Limited', 'id': '54662'}, 'RELATIONSHIP', {'country': 'British Virgin Islands', 'jurisdiction': 'British Virgin Islands', 'name': 'SUN PARADISE DEVELOPMENT LIMITED', 'id': '123542', 'source': 'Offshore Leaks', 'incorporation_date': neo4j.time.Date(1994, 4, 26), 'status': 'Struck / Defunct / Deregistered'}, 'RELATIONSHIP', {'country': 'HKG', 'name': 'RC Corporate Services Limited', 'id': '114242'}, 'RELATIONSHIP', {'country': 'British Virgin Islands', 'jurisdiction': 'British Virgin Islands', 'name': 'Blue Water Properties Holdings Limited', 'id': '127006', 'source': 'Offshore Leaks', 'incorporation_date': neo4j.time.Date(1997, 7, 18), 'status': 'Active'}]}, {'path': [{'country': 'HKG', 'name': 'Automated Systems (HK) Ltd', 'id': '83013'}, 'RELATIONSHIP', {'country': 'British Virgin Islands', 'jurisdiction': 'British Virgin Islands', 'name': 'EXPRESS RETURNS LIMITED', 'id': '126359', 'source': 'Offshore Leaks', 'incorporation_date': neo4j.time.Date(1997, 3, 25), 'status': 'Active'}, 'RELATIONSHIP', {'country': 'THA;VGB;IDN;SGP', 'name': 'Portcullis TrustNet (BVI) Limited', 'id': '54662'}, 'RELATIONSHIP', {'country': 'British Virgin Islands', 'jurisdiction': 'British Virgin Islands', 'name': 'JADE SUCCESS LIMITED', 'id': '126329', 'source': 'Offshore Leaks', 'incorporation_date': neo4j.time.Date(1997, 3, 19), 'status': 'Struck / Defunct / Deregistered'}], 'path2': [{'country': 'CHE', 'name': 'Joseph Unold', 'id': '115071'}, 'RELATIONSHIP', {'country': 'British Virgin Islands', 'jurisdiction': 'British Virgin Islands', 'name': 'ORIENT GALAXY LIMITED', 'id': '124901', 'source': 'Offshore Leaks', 'incorporation_date': neo4j.time.Date(1996, 3, 28), 'status': 'Transferred Out'}, 'RELATIONSHIP', {'country': 'THA;VGB;IDN;SGP', 'name': 'Portcullis TrustNet (BVI) Limited', 'id': '54662'}, 'RELATIONSHIP', {'country': 'British Virgin Islands', 'jurisdiction': 'British Virgin Islands', 'name': 'SUN PARADISE DEVELOPMENT LIMITED', 'id': '123542', 'source': 'Offshore Leaks', 'incorporation_date': neo4j.time.Date(1994, 4, 26), 'status': 'Struck / Defunct / Deregistered'}, 'RELATIONSHIP', {'country': 'HKG', 'name': 'RC Corporate Services Limited', 'id': '114242'}, 'RELATIONSHIP', {'country': 'British Virgin Islands', 'jurisdiction': 'British Virgin Islands', 'name': 'Blue Water Properties Holdings Limited', 'id': '127006', 'source': 'Offshore Leaks', 'incorporation_date': neo4j.time.Date(1997, 7, 18), 'status': 'Active'}]}, {'path': [{'country': 'IMN', 'name': 'Stephen Leonard', 'id': '116141'}, 'RELATIONSHIP', {'country': 'British Virgin Islands', 'jurisdiction': 'British Virgin Islands', 'name': 'KILBRIDGE LTD.', 'id': '126001', 'source': 'Offshore Leaks', 'incorporation_date': neo4j.time.Date(1991, 11, 7), 'status': 'Struck / Defunct / Deregistered'}, 'RELATIONSHIP', {'country': 'THA;VGB;IDN;SGP', 'name': 'Portcullis TrustNet (BVI) Limited', 'id': '54662'}, 'RELATIONSHIP', {'country': 'British Virgin Islands', 'jurisdiction': 'British Virgin Islands', 'name': 'JADE SUCCESS LIMITED', 'id': '126329', 'source': 'Offshore Leaks', 'incorporation_date': neo4j.time.Date(1997, 3, 19), 'status': 'Struck / Defunct / Deregistered'}], 'path2': [{'country': 'CHE', 'name': 'Joseph Unold', 'id': '115071'}, 'RELATIONSHIP', {'country': 'British Virgin Islands', 'jurisdiction': 'British Virgin Islands', 'name': 'ORIENT GALAXY LIMITED', 'id': '124901', 'source': 'Offshore Leaks', 'incorporation_date': neo4j.time.Date(1996, 3, 28), 'status': 'Transferred Out'}, 'RELATIONSHIP', {'country': 'THA;VGB;IDN;SGP', 'name': 'Portcullis TrustNet (BVI) Limited', 'id': '54662'}, 'RELATIONSHIP', {'country': 'British Virgin Islands', 'jurisdiction': 'British Virgin Islands', 'name': 'SUN PARADISE DEVELOPMENT LIMITED', 'id': '123542', 'source': 'Offshore Leaks', 'incorporation_date': neo4j.time.Date(1994, 4, 26), 'status': 'Struck / Defunct / Deregistered'}, 'RELATIONSHIP', {'country': 'HKG', 'name': 'RC Corporate Services Limited', 'id': '114242'}, 'RELATIONSHIP', {'country': 'British Virgin Islands', 'jurisdiction': 'British Virgin Islands', 'name': 'Blue Water Properties Holdings Limited', 'id': '127006', 'source': 'Offshore Leaks', 'incorporation_date': neo4j.time.Date(1997, 7, 18), 'status': 'Active'}]}, {'path': [{'country': 'HKG', 'name': 'RC Corporate Services Limited', 'id': '114242'}, 'RELATIONSHIP', {'country': 'British Virgin Islands', 'jurisdiction': 'British Virgin Islands', 'name': 'JADE SUCCESS LIMITED', 'id': '126329', 'source': 'Offshore Leaks', 'incorporation_date': neo4j.time.Date(1997, 3, 19), 'status': 'Struck / Defunct / Deregistered'}], 'path2': [{'country': 'CHE', 'name': 'Joseph Unold', 'id': '115071'}, 'RELATIONSHIP', {'country': 'British Virgin Islands', 'jurisdiction': 'British Virgin Islands', 'name': 'ORIENT GALAXY LIMITED', 'id': '124901', 'source': 'Offshore Leaks', 'incorporation_date': neo4j.time.Date(1996, 3, 28), 'status': 'Transferred Out'}, 'RELATIONSHIP', {'country': 'THA;VGB;IDN;SGP', 'name': 'Portcullis TrustNet (BVI) Limited', 'id': '54662'}, 'RELATIONSHIP', {'country': 'British Virgin Islands', 'jurisdiction': 'British Virgin Islands', 'name': 'SUN PARADISE DEVELOPMENT LIMITED', 'id': '123542', 'source': 'Offshore Leaks', 'incorporation_date': neo4j.time.Date(1994, 4, 26), 'status': 'Struck / Defunct / Deregistered'}, 'RELATIONSHIP', {'country': 'HKG', 'name': 'RC Corporate Services Limited', 'id': '114242'}, 'RELATIONSHIP', {'country': 'British Virgin Islands', 'jurisdiction': 'British Virgin Islands', 'name': 'Blue Water Properties Holdings Limited', 'id': '127006', 'source': 'Offshore Leaks', 'incorporation_date': neo4j.time.Date(1997, 7, 18), 'status': 'Active'}]}, {'path': [{'country': 'HKG', 'name': 'Jin Zhongyang', 'id': '117937'}, 'RELATIONSHIP', {'country': 'British Virgin Islands', 'jurisdiction': 'British Virgin Islands', 'name': 'SMART FLYER INVESTMENTS LIMITED', 'id': '126165', 'source': 'Offshore Leaks', 'incorporation_date': neo4j.time.Date(1997, 2, 20), 'status': 'Struck / Defunct / Deregistered'}, 'RELATIONSHIP', {'country': 'THA;VGB;IDN;SGP', 'name': 'Portcullis TrustNet (BVI) Limited', 'id': '54662'}, 'RELATIONSHIP', {'country': 'British Virgin Islands', 'jurisdiction': 'British Virgin Islands', 'name': 'JADE SUCCESS LIMITED', 'id': '126329', 'source': 'Offshore Leaks', 'incorporation_date': neo4j.time.Date(1997, 3, 19), 'status': 'Struck / Defunct / Deregistered'}], 'path2': [{'country': 'CHE', 'name': 'Joseph Unold', 'id': '115071'}, 'RELATIONSHIP', {'country': 'British Virgin Islands', 'jurisdiction': 'British Virgin Islands', 'name': 'ORIENT GALAXY LIMITED', 'id': '124901', 'source': 'Offshore Leaks', 'incorporation_date': neo4j.time.Date(1996, 3, 28), 'status': 'Transferred Out'}, 'RELATIONSHIP', {'country': 'THA;VGB;IDN;SGP', 'name': 'Portcullis TrustNet (BVI) Limited', 'id': '54662'}, 'RELATIONSHIP', {'country': 'British Virgin Islands', 'jurisdiction': 'British Virgin Islands', 'name': 'SUN PARADISE DEVELOPMENT LIMITED', 'id': '123542', 'source': 'Offshore Leaks', 'incorporation_date': neo4j.time.Date(1994, 4, 26), 'status': 'Struck / Defunct / Deregistered'}, 'RELATIONSHIP', {'country': 'HKG', 'name': 'RC Corporate Services Limited', 'id': '114242'}, 'RELATIONSHIP', {'country': 'British Virgin Islands', 'jurisdiction': 'British Virgin Islands', 'name': 'Blue Water Properties Holdings Limited', 'id': '127006', 'source': 'Offshore Leaks', 'incorporation_date': neo4j.time.Date(1997, 7, 18), 'status': 'Active'}]}, {'path': [{'country': 'HKG', 'name': 'Sam Io Man', 'id': '46214'}, 'RELATIONSHIP', {'country': 'British Virgin Islands', 'jurisdiction': 'British Virgin Islands', 'name': 'PACIFIC INVESTMENT SERVICES LIMITED', 'id': '125223', 'source': 'Offshore Leaks', 'incorporation_date': neo4j.time.Date(1996, 8, 19), 'status': 'Struck / Defunct / Deregistered'}, 'RELATIONSHIP', {'country': 'THA;VGB;IDN;SGP', 'name': 'Portcullis TrustNet (BVI) Limited', 'id': '54662'}, 'RELATIONSHIP', {'country': 'British Virgin Islands', 'jurisdiction': 'British Virgin Islands', 'name': 'JADE SUCCESS LIMITED', 'id': '126329', 'source': 'Offshore Leaks', 'incorporation_date': neo4j.time.Date(1997, 3, 19), 'status': 'Struck / Defunct / Deregistered'}], 'path2': [{'country': 'CHE', 'name': 'Joseph Unold', 'id': '115071'}, 'RELATIONSHIP', {'country': 'British Virgin Islands', 'jurisdiction': 'British Virgin Islands', 'name': 'ORIENT GALAXY LIMITED', 'id': '124901', 'source': 'Offshore Leaks', 'incorporation_date': neo4j.time.Date(1996, 3, 28), 'status': 'Transferred Out'}, 'RELATIONSHIP', {'country': 'THA;VGB;IDN;SGP', 'name': 'Portcullis TrustNet (BVI) Limited', 'id': '54662'}, 'RELATIONSHIP', {'country': 'British Virgin Islands', 'jurisdiction': 'British Virgin Islands', 'name': 'SUN PARADISE DEVELOPMENT LIMITED', 'id': '123542', 'source': 'Offshore Leaks', 'incorporation_date': neo4j.time.Date(1994, 4, 26), 'status': 'Struck / Defunct / Deregistered'}, 'RELATIONSHIP', {'country': 'HKG', 'name': 'RC Corporate Services Limited', 'id': '114242'}, 'RELATIONSHIP', {'country': 'British Virgin Islands', 'jurisdiction': 'British Virgin Islands', 'name': 'Blue Water Properties Holdings Limited', 'id': '127006', 'source': 'Offshore Leaks', 'incorporation_date': neo4j.time.Date(1997, 7, 18), 'status': 'Active'}]}, {'path': [{'country': 'HKG', 'name': 'SIF (Nominees) Limited', 'id': '43824'}, 'RELATIONSHIP', {'country': 'British Virgin Islands', 'jurisdiction': 'British Virgin Islands', 'name': 'PACIFIC ASIA OVERSEAS LTD.', 'id': '124945', 'source': 'Offshore Leaks', 'incorporation_date': neo4j.time.Date(1996, 4, 25), 'status': 'Active'}, 'RELATIONSHIP', {'country': 'THA;VGB;IDN;SGP', 'name': 'Portcullis TrustNet (BVI) Limited', 'id': '54662'}, 'RELATIONSHIP', {'country': 'British Virgin Islands', 'jurisdiction': 'British Virgin Islands', 'name': 'JADE SUCCESS LIMITED', 'id': '126329', 'source': 'Offshore Leaks', 'incorporation_date': neo4j.time.Date(1997, 3, 19), 'status': 'Struck / Defunct / Deregistered'}], 'path2': [{'country': 'CHE', 'name': 'Joseph Unold', 'id': '115071'}, 'RELATIONSHIP', {'country': 'British Virgin Islands', 'jurisdiction': 'British Virgin Islands', 'name': 'ORIENT GALAXY LIMITED', 'id': '124901', 'source': 'Offshore Leaks', 'incorporation_date': neo4j.time.Date(1996, 3, 28), 'status': 'Transferred Out'}, 'RELATIONSHIP', {'country': 'THA;VGB;IDN;SGP', 'name': 'Portcullis TrustNet (BVI) Limited', 'id': '54662'}, 'RELATIONSHIP', {'country': 'British Virgin Islands', 'jurisdiction': 'British Virgin Islands', 'name': 'SUN PARADISE DEVELOPMENT LIMITED', 'id': '123542', 'source': 'Offshore Leaks', 'incorporation_date': neo4j.time.Date(1994, 4, 26), 'status': 'Struck / Defunct / Deregistered'}, 'RELATIONSHIP', {'country': 'HKG', 'name': 'RC Corporate Services Limited', 'id': '114242'}, 'RELATIONSHIP', {'country': 'British Virgin Islands', 'jurisdiction': 'British Virgin Islands', 'name': 'Blue Water Properties Holdings Limited', 'id': '127006', 'source': 'Offshore Leaks', 'incorporation_date': neo4j.time.Date(1997, 7, 18), 'status': 'Active'}]}, {'path': [{'country': 'SGP', 'name': 'Kaling Lim', 'id': '45317'}, 'RELATIONSHIP', {'country': 'British Virgin Islands', 'jurisdiction': 'British Virgin Islands', 'name': 'HARMONY INTERNATIONAL INVESTMENT LIMITED', 'id': '125123', 'source': 'Offshore Leaks', 'incorporation_date': neo4j.time.Date(1996, 7, 26), 'status': 'Active'}, 'RELATIONSHIP', {'country': 'THA;VGB;IDN;SGP', 'name': 'Portcullis TrustNet (BVI) Limited', 'id': '54662'}, 'RELATIONSHIP', {'country': 'British Virgin Islands', 'jurisdiction': 'British Virgin Islands', 'name': 'JADE SUCCESS LIMITED', 'id': '126329', 'source': 'Offshore Leaks', 'incorporation_date': neo4j.time.Date(1997, 3, 19), 'status': 'Struck / Defunct / Deregistered'}], 'path2': [{'country': 'CHE', 'name': 'Joseph Unold', 'id': '115071'}, 'RELATIONSHIP', {'country': 'British Virgin Islands', 'jurisdiction': 'British Virgin Islands', 'name': 'ORIENT GALAXY LIMITED', 'id': '124901', 'source': 'Offshore Leaks', 'incorporation_date': neo4j.time.Date(1996, 3, 28), 'status': 'Transferred Out'}, 'RELATIONSHIP', {'country': 'THA;VGB;IDN;SGP', 'name': 'Portcullis TrustNet (BVI) Limited', 'id': '54662'}, 'RELATIONSHIP', {'country': 'British Virgin Islands', 'jurisdiction': 'British Virgin Islands', 'name': 'SUN PARADISE DEVELOPMENT LIMITED', 'id': '123542', 'source': 'Offshore Leaks', 'incorporation_date': neo4j.time.Date(1994, 4, 26), 'status': 'Struck / Defunct / Deregistered'}, 'RELATIONSHIP', {'country': 'HKG', 'name': 'RC Corporate Services Limited', 'id': '114242'}, 'RELATIONSHIP', {'country': 'British Virgin Islands', 'jurisdiction': 'British Virgin Islands', 'name': 'Blue Water Properties Holdings Limited', 'id': '127006', 'source': 'Offshore Leaks', 'incorporation_date': neo4j.time.Date(1997, 7, 18), 'status': 'Active'}]}, {'path': [{'country': 'HKG', 'name': 'Michael William Glenwood Maddess', 'id': '41732'}, 'RELATIONSHIP', {'country': 'British Virgin Islands', 'jurisdiction': 'British Virgin Islands', 'name': 'ASIA MOTOR SPORTS LIMITED', 'id': '124979', 'source': 'Offshore Leaks', 'incorporation_date': neo4j.time.Date(1996, 5, 25), 'status': 'Transferred Out'}, 'RELATIONSHIP', {'country': 'THA;VGB;IDN;SGP', 'name': 'Portcullis TrustNet (BVI) Limited', 'id': '54662'}, 'RELATIONSHIP', {'country': 'British Virgin Islands', 'jurisdiction': 'British Virgin Islands', 'name': 'JADE SUCCESS LIMITED', 'id': '126329', 'source': 'Offshore Leaks', 'incorporation_date': neo4j.time.Date(1997, 3, 19), 'status': 'Struck / Defunct / Deregistered'}], 'path2': [{'country': 'CHE', 'name': 'Joseph Unold', 'id': '115071'}, 'RELATIONSHIP', {'country': 'British Virgin Islands', 'jurisdiction': 'British Virgin Islands', 'name': 'ORIENT GALAXY LIMITED', 'id': '124901', 'source': 'Offshore Leaks', 'incorporation_date': neo4j.time.Date(1996, 3, 28), 'status': 'Transferred Out'}, 'RELATIONSHIP', {'country': 'THA;VGB;IDN;SGP', 'name': 'Portcullis TrustNet (BVI) Limited', 'id': '54662'}, 'RELATIONSHIP', {'country': 'British Virgin Islands', 'jurisdiction': 'British Virgin Islands', 'name': 'SUN PARADISE DEVELOPMENT LIMITED', 'id': '123542', 'source': 'Offshore Leaks', 'incorporation_date': neo4j.time.Date(1994, 4, 26), 'status': 'Struck / Defunct / Deregistered'}, 'RELATIONSHIP', {'country': 'HKG', 'name': 'RC Corporate Services Limited', 'id': '114242'}, 'RELATIONSHIP', {'country': 'British Virgin Islands', 'jurisdiction': 'British Virgin Islands', 'name': 'Blue Water Properties Holdings Limited', 'id': '127006', 'source': 'Offshore Leaks', 'incorporation_date': neo4j.time.Date(1997, 7, 18), 'status': 'Active'}]}]\u001b[0m\n",
      "\n",
      "\u001b[1m> Finished chain.\u001b[0m\n"
     ]
    },
    {
     "data": {
      "text/plain": [
       "{'query': 'How are JADE SUCCESS LIMITED and Blue Water Properties Holdings Limited connected?',\n",
       " 'result': 'JADE SUCCESS LIMITED and Blue Water Properties Holdings Limited are connected through Portcullis TrustNet (BVI) Limited.'}"
      ]
     },
     "execution_count": 6,
     "metadata": {},
     "output_type": "execute_result"
    }
   ],
   "source": [
    "response = chain.invoke({\"query\": \"How are JADE SUCCESS LIMITED and Blue Water Properties Holdings Limited connected?\"})\n",
    "response"
   ]
  },
  {
   "cell_type": "code",
   "execution_count": null,
   "id": "429d1539-98e7-4623-b586-66fe751552e5",
   "metadata": {},
   "outputs": [],
   "source": []
  }
 ],
 "metadata": {
  "kernelspec": {
   "display_name": "avanciov2",
   "language": "python",
   "name": "avanciov2"
  },
  "language_info": {
   "codemirror_mode": {
    "name": "ipython",
    "version": 3
   },
   "file_extension": ".py",
   "mimetype": "text/x-python",
   "name": "python",
   "nbconvert_exporter": "python",
   "pygments_lexer": "ipython3",
   "version": "3.12.0"
  }
 },
 "nbformat": 4,
 "nbformat_minor": 5
}
